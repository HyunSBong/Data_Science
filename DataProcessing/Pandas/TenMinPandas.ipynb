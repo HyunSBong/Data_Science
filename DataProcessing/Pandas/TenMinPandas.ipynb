{
 "metadata": {
  "language_info": {
   "codemirror_mode": {
    "name": "ipython",
    "version": 3
   },
   "file_extension": ".py",
   "mimetype": "text/x-python",
   "name": "python",
   "nbconvert_exporter": "python",
   "pygments_lexer": "ipython3",
   "version": "3.7.6-final"
  },
  "orig_nbformat": 2,
  "kernelspec": {
   "name": "python3",
   "display_name": "Python 3.7.6 64-bit ('base': conda)",
   "metadata": {
    "interpreter": {
     "hash": "516501436095ccc8d2433e8d91d3a65598cdead369cfb725c0a4964b7cee71b3"
    }
   }
  }
 },
 "nbformat": 4,
 "nbformat_minor": 2,
 "cells": [
  {
   "cell_type": "code",
   "execution_count": 147,
   "metadata": {},
   "outputs": [
    {
     "output_type": "execute_result",
     "data": {
      "text/plain": [
       "   id raw_grade      grade\n",
       "0   1         a  very good\n",
       "1   2         b       good\n",
       "2   3         b       good\n",
       "3   4         a  very good\n",
       "4   5         a  very good\n",
       "5   6         e   very bad"
      ],
      "text/html": "<div>\n<style scoped>\n    .dataframe tbody tr th:only-of-type {\n        vertical-align: middle;\n    }\n\n    .dataframe tbody tr th {\n        vertical-align: top;\n    }\n\n    .dataframe thead th {\n        text-align: right;\n    }\n</style>\n<table border=\"1\" class=\"dataframe\">\n  <thead>\n    <tr style=\"text-align: right;\">\n      <th></th>\n      <th>id</th>\n      <th>raw_grade</th>\n      <th>grade</th>\n    </tr>\n  </thead>\n  <tbody>\n    <tr>\n      <th>0</th>\n      <td>1</td>\n      <td>a</td>\n      <td>very good</td>\n    </tr>\n    <tr>\n      <th>1</th>\n      <td>2</td>\n      <td>b</td>\n      <td>good</td>\n    </tr>\n    <tr>\n      <th>2</th>\n      <td>3</td>\n      <td>b</td>\n      <td>good</td>\n    </tr>\n    <tr>\n      <th>3</th>\n      <td>4</td>\n      <td>a</td>\n      <td>very good</td>\n    </tr>\n    <tr>\n      <th>4</th>\n      <td>5</td>\n      <td>a</td>\n      <td>very good</td>\n    </tr>\n    <tr>\n      <th>5</th>\n      <td>6</td>\n      <td>e</td>\n      <td>very bad</td>\n    </tr>\n  </tbody>\n</table>\n</div>"
     },
     "metadata": {},
     "execution_count": 147
    }
   ],
   "source": [
    "# 범주 이름 붙이기\n",
    "df5[\"grade\"].cat.categories = [\"very good\", \"good\", \"very bad\"]\n",
    "df5\n"
   ]
  },
  {
   "cell_type": "code",
   "execution_count": 1,
   "metadata": {},
   "outputs": [],
   "source": [
    "import pandas as pd\n",
    "import numpy as np"
   ]
  },
  {
   "cell_type": "code",
   "execution_count": 2,
   "metadata": {},
   "outputs": [],
   "source": [
    "s = pd.Series([1, 3, 5, np.nan, 6, 8])"
   ]
  },
  {
   "cell_type": "code",
   "execution_count": 3,
   "metadata": {},
   "outputs": [
    {
     "output_type": "execute_result",
     "data": {
      "text/plain": [
       "0    1.0\n",
       "1    3.0\n",
       "2    5.0\n",
       "3    NaN\n",
       "4    6.0\n",
       "5    8.0\n",
       "dtype: float64"
      ]
     },
     "metadata": {},
     "execution_count": 3
    }
   ],
   "source": [
    "s"
   ]
  },
  {
   "cell_type": "code",
   "execution_count": 4,
   "metadata": {},
   "outputs": [
    {
     "output_type": "execute_result",
     "data": {
      "text/plain": [
       "   a  b   c\n",
       "1  4  7  10\n",
       "2  5  8  11\n",
       "3  6  9  12"
      ],
      "text/html": "<div>\n<style scoped>\n    .dataframe tbody tr th:only-of-type {\n        vertical-align: middle;\n    }\n\n    .dataframe tbody tr th {\n        vertical-align: top;\n    }\n\n    .dataframe thead th {\n        text-align: right;\n    }\n</style>\n<table border=\"1\" class=\"dataframe\">\n  <thead>\n    <tr style=\"text-align: right;\">\n      <th></th>\n      <th>a</th>\n      <th>b</th>\n      <th>c</th>\n    </tr>\n  </thead>\n  <tbody>\n    <tr>\n      <th>1</th>\n      <td>4</td>\n      <td>7</td>\n      <td>10</td>\n    </tr>\n    <tr>\n      <th>2</th>\n      <td>5</td>\n      <td>8</td>\n      <td>11</td>\n    </tr>\n    <tr>\n      <th>3</th>\n      <td>6</td>\n      <td>9</td>\n      <td>12</td>\n    </tr>\n  </tbody>\n</table>\n</div>"
     },
     "metadata": {},
     "execution_count": 4
    }
   ],
   "source": [
    "df = pd.DataFrame(\n",
    "    {\"a\" : [4 ,5, 6],\n",
    "    \"b\" : [7, 8, 9],\n",
    "    \"c\" : [10, 11, 12]},\n",
    "index = [1, 2, 3])\n",
    "df"
   ]
  },
  {
   "cell_type": "code",
   "execution_count": 5,
   "metadata": {},
   "outputs": [
    {
     "output_type": "execute_result",
     "data": {
      "text/plain": [
       "1    4\n",
       "2    5\n",
       "3    6\n",
       "Name: a, dtype: int64"
      ]
     },
     "metadata": {},
     "execution_count": 5
    }
   ],
   "source": [
    "# Series\n",
    "df[\"a\"]\n"
   ]
  },
  {
   "cell_type": "code",
   "execution_count": 9,
   "metadata": {},
   "outputs": [
    {
     "output_type": "execute_result",
     "data": {
      "text/plain": [
       "   a\n",
       "1  4\n",
       "2  5\n",
       "3  6"
      ],
      "text/html": "<div>\n<style scoped>\n    .dataframe tbody tr th:only-of-type {\n        vertical-align: middle;\n    }\n\n    .dataframe tbody tr th {\n        vertical-align: top;\n    }\n\n    .dataframe thead th {\n        text-align: right;\n    }\n</style>\n<table border=\"1\" class=\"dataframe\">\n  <thead>\n    <tr style=\"text-align: right;\">\n      <th></th>\n      <th>a</th>\n    </tr>\n  </thead>\n  <tbody>\n    <tr>\n      <th>1</th>\n      <td>4</td>\n    </tr>\n    <tr>\n      <th>2</th>\n      <td>5</td>\n    </tr>\n    <tr>\n      <th>3</th>\n      <td>6</td>\n    </tr>\n  </tbody>\n</table>\n</div>"
     },
     "metadata": {},
     "execution_count": 9
    }
   ],
   "source": [
    "# [[]] 이면 DataFrame으로..\n",
    "df[[\"a\"]]\n"
   ]
  },
  {
   "cell_type": "code",
   "execution_count": 6,
   "metadata": {},
   "outputs": [
    {
     "output_type": "execute_result",
     "data": {
      "text/plain": [
       "DatetimeIndex(['2021-01-01', '2021-01-02', '2021-01-03', '2021-01-04',\n",
       "               '2021-01-05', '2021-01-06'],\n",
       "              dtype='datetime64[ns]', freq='D')"
      ]
     },
     "metadata": {},
     "execution_count": 6
    }
   ],
   "source": [
    "# date_range -> \n",
    "# pd.date_range('1/1/2017', '12/31/2017', freq='W-MON') 월요일만 추출\n",
    "# pd.date_range(start='12/10/2017', periods=4, freq='D') 4일치 날짜를 추출\n",
    "dates = pd.date_range(\"20210101\", periods=6) # 2021년 1월 1일 부터 6일치 날짜를 추출\n",
    "dates\n"
   ]
  },
  {
   "cell_type": "code",
   "execution_count": 7,
   "metadata": {},
   "outputs": [
    {
     "output_type": "execute_result",
     "data": {
      "text/plain": [
       "                   A         B         C         D\n",
       "2021-01-01  0.952779  0.315940  0.153472  0.356936\n",
       "2021-01-02  0.339225 -0.166911 -0.519431 -2.073599\n",
       "2021-01-03  1.507226 -0.519761  1.690711 -0.507602\n",
       "2021-01-04  0.660243 -1.371607  0.548405 -0.519238\n",
       "2021-01-05  2.153474  0.810626 -1.349950  0.284011\n",
       "2021-01-06  0.423811 -1.312050 -0.892476 -0.879487"
      ],
      "text/html": "<div>\n<style scoped>\n    .dataframe tbody tr th:only-of-type {\n        vertical-align: middle;\n    }\n\n    .dataframe tbody tr th {\n        vertical-align: top;\n    }\n\n    .dataframe thead th {\n        text-align: right;\n    }\n</style>\n<table border=\"1\" class=\"dataframe\">\n  <thead>\n    <tr style=\"text-align: right;\">\n      <th></th>\n      <th>A</th>\n      <th>B</th>\n      <th>C</th>\n      <th>D</th>\n    </tr>\n  </thead>\n  <tbody>\n    <tr>\n      <th>2021-01-01</th>\n      <td>0.952779</td>\n      <td>0.315940</td>\n      <td>0.153472</td>\n      <td>0.356936</td>\n    </tr>\n    <tr>\n      <th>2021-01-02</th>\n      <td>0.339225</td>\n      <td>-0.166911</td>\n      <td>-0.519431</td>\n      <td>-2.073599</td>\n    </tr>\n    <tr>\n      <th>2021-01-03</th>\n      <td>1.507226</td>\n      <td>-0.519761</td>\n      <td>1.690711</td>\n      <td>-0.507602</td>\n    </tr>\n    <tr>\n      <th>2021-01-04</th>\n      <td>0.660243</td>\n      <td>-1.371607</td>\n      <td>0.548405</td>\n      <td>-0.519238</td>\n    </tr>\n    <tr>\n      <th>2021-01-05</th>\n      <td>2.153474</td>\n      <td>0.810626</td>\n      <td>-1.349950</td>\n      <td>0.284011</td>\n    </tr>\n    <tr>\n      <th>2021-01-06</th>\n      <td>0.423811</td>\n      <td>-1.312050</td>\n      <td>-0.892476</td>\n      <td>-0.879487</td>\n    </tr>\n  </tbody>\n</table>\n</div>"
     },
     "metadata": {},
     "execution_count": 7
    }
   ],
   "source": [
    "# numpy as np\n",
    "# np.random.randInt 균일 분포의 정수 난수 1개 생성\n",
    "# np.random.rand    0부터 1사이의 균일분포에서 난수 행렬 배열 생성\n",
    "# np.random.randn   가우시안 표준 정규 분포에서 난수 행렬 배열 생성\n",
    "df2 = pd.DataFrame(np.random.randn(6,4), index=dates, columns=list(\"ABCD\"))\n",
    "# 행렬 배열 (6x4)\n",
    "df2\n"
   ]
  },
  {
   "cell_type": "code",
   "execution_count": 13,
   "metadata": {},
   "outputs": [
    {
     "output_type": "execute_result",
     "data": {
      "text/plain": [
       "     A          B    C  D      E    F\n",
       "0  1.0 2021-01-01  1.0  3   test  foo\n",
       "1  1.0 2021-01-01  1.0  3  train  foo\n",
       "2  1.0 2021-01-01  1.0  3   test  foo\n",
       "3  1.0 2021-01-01  1.0  3  train  foo"
      ],
      "text/html": "<div>\n<style scoped>\n    .dataframe tbody tr th:only-of-type {\n        vertical-align: middle;\n    }\n\n    .dataframe tbody tr th {\n        vertical-align: top;\n    }\n\n    .dataframe thead th {\n        text-align: right;\n    }\n</style>\n<table border=\"1\" class=\"dataframe\">\n  <thead>\n    <tr style=\"text-align: right;\">\n      <th></th>\n      <th>A</th>\n      <th>B</th>\n      <th>C</th>\n      <th>D</th>\n      <th>E</th>\n      <th>F</th>\n    </tr>\n  </thead>\n  <tbody>\n    <tr>\n      <th>0</th>\n      <td>1.0</td>\n      <td>2021-01-01</td>\n      <td>1.0</td>\n      <td>3</td>\n      <td>test</td>\n      <td>foo</td>\n    </tr>\n    <tr>\n      <th>1</th>\n      <td>1.0</td>\n      <td>2021-01-01</td>\n      <td>1.0</td>\n      <td>3</td>\n      <td>train</td>\n      <td>foo</td>\n    </tr>\n    <tr>\n      <th>2</th>\n      <td>1.0</td>\n      <td>2021-01-01</td>\n      <td>1.0</td>\n      <td>3</td>\n      <td>test</td>\n      <td>foo</td>\n    </tr>\n    <tr>\n      <th>3</th>\n      <td>1.0</td>\n      <td>2021-01-01</td>\n      <td>1.0</td>\n      <td>3</td>\n      <td>train</td>\n      <td>foo</td>\n    </tr>\n  </tbody>\n</table>\n</div>"
     },
     "metadata": {},
     "execution_count": 13
    }
   ],
   "source": [
    "# Series와 같은 것으로 변환될 수 있는 객체들의 dict로 구성된 DataFrame 생성\n",
    "# https://kongdols-room.tistory.com/53\n",
    "df3 = pd.DataFrame(\n",
    "    {\n",
    "        \"A\": 1.0,\n",
    "        \"B\": pd.Timestamp(\"20210101\"),\n",
    "        \"C\": pd.Series(1, index=list(range(4)), dtype=\"float32\"),\n",
    "        \"D\": np.array([3] * 4, dtype=\"int32\"),\n",
    "        \"E\": pd.Categorical([\"test\", \"train\", \"test\", \"train\"]),\n",
    "        \"F\": \"foo\",\n",
    "    }\n",
    ")\n",
    "df3"
   ]
  },
  {
   "cell_type": "code",
   "execution_count": 14,
   "metadata": {},
   "outputs": [
    {
     "output_type": "execute_result",
     "data": {
      "text/plain": [
       "A           float64\n",
       "B    datetime64[ns]\n",
       "C           float32\n",
       "D             int32\n",
       "E          category\n",
       "F            object\n",
       "dtype: object"
      ]
     },
     "metadata": {},
     "execution_count": 14
    }
   ],
   "source": [
    "#dtype -> 자료형\n",
    "df3.dtypes"
   ]
  },
  {
   "cell_type": "code",
   "execution_count": 16,
   "metadata": {},
   "outputs": [
    {
     "output_type": "execute_result",
     "data": {
      "text/plain": [
       "   a  b   c\n",
       "1  4  7  10\n",
       "2  5  8  11\n",
       "3  6  9  12"
      ],
      "text/html": "<div>\n<style scoped>\n    .dataframe tbody tr th:only-of-type {\n        vertical-align: middle;\n    }\n\n    .dataframe tbody tr th {\n        vertical-align: top;\n    }\n\n    .dataframe thead th {\n        text-align: right;\n    }\n</style>\n<table border=\"1\" class=\"dataframe\">\n  <thead>\n    <tr style=\"text-align: right;\">\n      <th></th>\n      <th>a</th>\n      <th>b</th>\n      <th>c</th>\n    </tr>\n  </thead>\n  <tbody>\n    <tr>\n      <th>1</th>\n      <td>4</td>\n      <td>7</td>\n      <td>10</td>\n    </tr>\n    <tr>\n      <th>2</th>\n      <td>5</td>\n      <td>8</td>\n      <td>11</td>\n    </tr>\n    <tr>\n      <th>3</th>\n      <td>6</td>\n      <td>9</td>\n      <td>12</td>\n    </tr>\n  </tbody>\n</table>\n</div>"
     },
     "metadata": {},
     "execution_count": 16
    }
   ],
   "source": [
    "# Viewing data \n",
    "\n",
    "# df.head() 앞에서 윗 5줄을 불러옴 (default = 5)\n",
    "# df.tail() 끝에서 마지막 5줄을 불러옴 (default = 5)\n",
    "df.head()"
   ]
  },
  {
   "cell_type": "code",
   "execution_count": 17,
   "metadata": {},
   "outputs": [
    {
     "output_type": "execute_result",
     "data": {
      "text/plain": [
       "   a  b   c\n",
       "3  6  9  12"
      ],
      "text/html": "<div>\n<style scoped>\n    .dataframe tbody tr th:only-of-type {\n        vertical-align: middle;\n    }\n\n    .dataframe tbody tr th {\n        vertical-align: top;\n    }\n\n    .dataframe thead th {\n        text-align: right;\n    }\n</style>\n<table border=\"1\" class=\"dataframe\">\n  <thead>\n    <tr style=\"text-align: right;\">\n      <th></th>\n      <th>a</th>\n      <th>b</th>\n      <th>c</th>\n    </tr>\n  </thead>\n  <tbody>\n    <tr>\n      <th>3</th>\n      <td>6</td>\n      <td>9</td>\n      <td>12</td>\n    </tr>\n  </tbody>\n</table>\n</div>"
     },
     "metadata": {},
     "execution_count": 17
    }
   ],
   "source": [
    "df.tail(1)"
   ]
  },
  {
   "cell_type": "code",
   "execution_count": 18,
   "metadata": {},
   "outputs": [
    {
     "output_type": "execute_result",
     "data": {
      "text/plain": [
       "                   A         B         C         D\n",
       "2021-01-01  0.204788  1.379574 -2.566273 -0.533431"
      ],
      "text/html": "<div>\n<style scoped>\n    .dataframe tbody tr th:only-of-type {\n        vertical-align: middle;\n    }\n\n    .dataframe tbody tr th {\n        vertical-align: top;\n    }\n\n    .dataframe thead th {\n        text-align: right;\n    }\n</style>\n<table border=\"1\" class=\"dataframe\">\n  <thead>\n    <tr style=\"text-align: right;\">\n      <th></th>\n      <th>A</th>\n      <th>B</th>\n      <th>C</th>\n      <th>D</th>\n    </tr>\n  </thead>\n  <tbody>\n    <tr>\n      <th>2021-01-01</th>\n      <td>0.204788</td>\n      <td>1.379574</td>\n      <td>-2.566273</td>\n      <td>-0.533431</td>\n    </tr>\n  </tbody>\n</table>\n</div>"
     },
     "metadata": {},
     "execution_count": 18
    }
   ],
   "source": [
    "df2.head(1)"
   ]
  },
  {
   "cell_type": "code",
   "execution_count": 19,
   "metadata": {},
   "outputs": [
    {
     "output_type": "execute_result",
     "data": {
      "text/plain": [
       "DatetimeIndex(['2021-01-01', '2021-01-02', '2021-01-03', '2021-01-04',\n",
       "               '2021-01-05', '2021-01-06'],\n",
       "              dtype='datetime64[ns]', freq='D')"
      ]
     },
     "metadata": {},
     "execution_count": 19
    }
   ],
   "source": [
    "df2.index"
   ]
  },
  {
   "cell_type": "code",
   "execution_count": 20,
   "metadata": {},
   "outputs": [
    {
     "output_type": "execute_result",
     "data": {
      "text/plain": [
       "Index(['a', 'b', 'c'], dtype='object')"
      ]
     },
     "metadata": {},
     "execution_count": 20
    }
   ],
   "source": [
    "df.columns"
   ]
  },
  {
   "cell_type": "code",
   "execution_count": 21,
   "metadata": {},
   "outputs": [
    {
     "output_type": "execute_result",
     "data": {
      "text/plain": [
       "Index(['A', 'B', 'C', 'D'], dtype='object')"
      ]
     },
     "metadata": {},
     "execution_count": 21
    }
   ],
   "source": [
    "df2.columns"
   ]
  },
  {
   "cell_type": "code",
   "execution_count": 22,
   "metadata": {},
   "outputs": [
    {
     "output_type": "execute_result",
     "data": {
      "text/plain": [
       "array([[ 0.20478811,  1.37957397, -2.56627328, -0.53343131],\n",
       "       [-0.50338249, -0.0693436 , -0.32652265,  0.33597008],\n",
       "       [-0.92664404,  0.32220983,  1.33890786, -0.10655752],\n",
       "       [-0.80925865,  0.3265626 , -1.20627752,  0.85891536],\n",
       "       [-0.79967328,  0.20736745,  0.3675465 ,  2.19349445],\n",
       "       [ 0.20965618, -2.1972934 ,  0.638939  , -0.12109961]])"
      ]
     },
     "metadata": {},
     "execution_count": 22
    }
   ],
   "source": [
    "df2.values"
   ]
  },
  {
   "cell_type": "code",
   "execution_count": 24,
   "metadata": {},
   "outputs": [
    {
     "output_type": "execute_result",
     "data": {
      "text/plain": [
       "              A         B         C         D\n",
       "count  6.000000  6.000000  6.000000  6.000000\n",
       "mean  -0.437419 -0.005154 -0.292280  0.437882\n",
       "std    0.518521  1.182323  1.412156  0.982054\n",
       "min   -0.926644 -2.197293 -2.566273 -0.533431\n",
       "25%   -0.806862 -0.000166 -0.986339 -0.117464\n",
       "50%   -0.651528  0.264789  0.020512  0.114706\n",
       "75%    0.027745  0.325474  0.571091  0.728179\n",
       "max    0.209656  1.379574  1.338908  2.193494"
      ],
      "text/html": "<div>\n<style scoped>\n    .dataframe tbody tr th:only-of-type {\n        vertical-align: middle;\n    }\n\n    .dataframe tbody tr th {\n        vertical-align: top;\n    }\n\n    .dataframe thead th {\n        text-align: right;\n    }\n</style>\n<table border=\"1\" class=\"dataframe\">\n  <thead>\n    <tr style=\"text-align: right;\">\n      <th></th>\n      <th>A</th>\n      <th>B</th>\n      <th>C</th>\n      <th>D</th>\n    </tr>\n  </thead>\n  <tbody>\n    <tr>\n      <th>count</th>\n      <td>6.000000</td>\n      <td>6.000000</td>\n      <td>6.000000</td>\n      <td>6.000000</td>\n    </tr>\n    <tr>\n      <th>mean</th>\n      <td>-0.437419</td>\n      <td>-0.005154</td>\n      <td>-0.292280</td>\n      <td>0.437882</td>\n    </tr>\n    <tr>\n      <th>std</th>\n      <td>0.518521</td>\n      <td>1.182323</td>\n      <td>1.412156</td>\n      <td>0.982054</td>\n    </tr>\n    <tr>\n      <th>min</th>\n      <td>-0.926644</td>\n      <td>-2.197293</td>\n      <td>-2.566273</td>\n      <td>-0.533431</td>\n    </tr>\n    <tr>\n      <th>25%</th>\n      <td>-0.806862</td>\n      <td>-0.000166</td>\n      <td>-0.986339</td>\n      <td>-0.117464</td>\n    </tr>\n    <tr>\n      <th>50%</th>\n      <td>-0.651528</td>\n      <td>0.264789</td>\n      <td>0.020512</td>\n      <td>0.114706</td>\n    </tr>\n    <tr>\n      <th>75%</th>\n      <td>0.027745</td>\n      <td>0.325474</td>\n      <td>0.571091</td>\n      <td>0.728179</td>\n    </tr>\n    <tr>\n      <th>max</th>\n      <td>0.209656</td>\n      <td>1.379574</td>\n      <td>1.338908</td>\n      <td>2.193494</td>\n    </tr>\n  </tbody>\n</table>\n</div>"
     },
     "metadata": {},
     "execution_count": 24
    }
   ],
   "source": [
    "# describe()는 데이터의 대략적인 통계적 정보 요약을 보여줌\n",
    "df2.describe()"
   ]
  },
  {
   "cell_type": "code",
   "execution_count": 25,
   "metadata": {},
   "outputs": [
    {
     "output_type": "execute_result",
     "data": {
      "text/plain": [
       "         a    b     c\n",
       "count  3.0  3.0   3.0\n",
       "mean   5.0  8.0  11.0\n",
       "std    1.0  1.0   1.0\n",
       "min    4.0  7.0  10.0\n",
       "25%    4.5  7.5  10.5\n",
       "50%    5.0  8.0  11.0\n",
       "75%    5.5  8.5  11.5\n",
       "max    6.0  9.0  12.0"
      ],
      "text/html": "<div>\n<style scoped>\n    .dataframe tbody tr th:only-of-type {\n        vertical-align: middle;\n    }\n\n    .dataframe tbody tr th {\n        vertical-align: top;\n    }\n\n    .dataframe thead th {\n        text-align: right;\n    }\n</style>\n<table border=\"1\" class=\"dataframe\">\n  <thead>\n    <tr style=\"text-align: right;\">\n      <th></th>\n      <th>a</th>\n      <th>b</th>\n      <th>c</th>\n    </tr>\n  </thead>\n  <tbody>\n    <tr>\n      <th>count</th>\n      <td>3.0</td>\n      <td>3.0</td>\n      <td>3.0</td>\n    </tr>\n    <tr>\n      <th>mean</th>\n      <td>5.0</td>\n      <td>8.0</td>\n      <td>11.0</td>\n    </tr>\n    <tr>\n      <th>std</th>\n      <td>1.0</td>\n      <td>1.0</td>\n      <td>1.0</td>\n    </tr>\n    <tr>\n      <th>min</th>\n      <td>4.0</td>\n      <td>7.0</td>\n      <td>10.0</td>\n    </tr>\n    <tr>\n      <th>25%</th>\n      <td>4.5</td>\n      <td>7.5</td>\n      <td>10.5</td>\n    </tr>\n    <tr>\n      <th>50%</th>\n      <td>5.0</td>\n      <td>8.0</td>\n      <td>11.0</td>\n    </tr>\n    <tr>\n      <th>75%</th>\n      <td>5.5</td>\n      <td>8.5</td>\n      <td>11.5</td>\n    </tr>\n    <tr>\n      <th>max</th>\n      <td>6.0</td>\n      <td>9.0</td>\n      <td>12.0</td>\n    </tr>\n  </tbody>\n</table>\n</div>"
     },
     "metadata": {},
     "execution_count": 25
    }
   ],
   "source": [
    "df.describe()"
   ]
  },
  {
   "cell_type": "code",
   "execution_count": 26,
   "metadata": {},
   "outputs": [
    {
     "output_type": "execute_result",
     "data": {
      "text/plain": [
       "                   A         B         C         D\n",
       "2021-01-01  0.204788  1.379574 -2.566273 -0.533431\n",
       "2021-01-02 -0.503382 -0.069344 -0.326523  0.335970\n",
       "2021-01-03 -0.926644  0.322210  1.338908 -0.106558\n",
       "2021-01-04 -0.809259  0.326563 -1.206278  0.858915\n",
       "2021-01-05 -0.799673  0.207367  0.367547  2.193494\n",
       "2021-01-06  0.209656 -2.197293  0.638939 -0.121100"
      ],
      "text/html": "<div>\n<style scoped>\n    .dataframe tbody tr th:only-of-type {\n        vertical-align: middle;\n    }\n\n    .dataframe tbody tr th {\n        vertical-align: top;\n    }\n\n    .dataframe thead th {\n        text-align: right;\n    }\n</style>\n<table border=\"1\" class=\"dataframe\">\n  <thead>\n    <tr style=\"text-align: right;\">\n      <th></th>\n      <th>A</th>\n      <th>B</th>\n      <th>C</th>\n      <th>D</th>\n    </tr>\n  </thead>\n  <tbody>\n    <tr>\n      <th>2021-01-01</th>\n      <td>0.204788</td>\n      <td>1.379574</td>\n      <td>-2.566273</td>\n      <td>-0.533431</td>\n    </tr>\n    <tr>\n      <th>2021-01-02</th>\n      <td>-0.503382</td>\n      <td>-0.069344</td>\n      <td>-0.326523</td>\n      <td>0.335970</td>\n    </tr>\n    <tr>\n      <th>2021-01-03</th>\n      <td>-0.926644</td>\n      <td>0.322210</td>\n      <td>1.338908</td>\n      <td>-0.106558</td>\n    </tr>\n    <tr>\n      <th>2021-01-04</th>\n      <td>-0.809259</td>\n      <td>0.326563</td>\n      <td>-1.206278</td>\n      <td>0.858915</td>\n    </tr>\n    <tr>\n      <th>2021-01-05</th>\n      <td>-0.799673</td>\n      <td>0.207367</td>\n      <td>0.367547</td>\n      <td>2.193494</td>\n    </tr>\n    <tr>\n      <th>2021-01-06</th>\n      <td>0.209656</td>\n      <td>-2.197293</td>\n      <td>0.638939</td>\n      <td>-0.121100</td>\n    </tr>\n  </tbody>\n</table>\n</div>"
     },
     "metadata": {},
     "execution_count": 26
    }
   ],
   "source": [
    "df2"
   ]
  },
  {
   "cell_type": "code",
   "execution_count": 27,
   "metadata": {},
   "outputs": [
    {
     "output_type": "execute_result",
     "data": {
      "text/plain": [
       "   2021-01-01  2021-01-02  2021-01-03  2021-01-04  2021-01-05  2021-01-06\n",
       "A    0.204788   -0.503382   -0.926644   -0.809259   -0.799673    0.209656\n",
       "B    1.379574   -0.069344    0.322210    0.326563    0.207367   -2.197293\n",
       "C   -2.566273   -0.326523    1.338908   -1.206278    0.367547    0.638939\n",
       "D   -0.533431    0.335970   -0.106558    0.858915    2.193494   -0.121100"
      ],
      "text/html": "<div>\n<style scoped>\n    .dataframe tbody tr th:only-of-type {\n        vertical-align: middle;\n    }\n\n    .dataframe tbody tr th {\n        vertical-align: top;\n    }\n\n    .dataframe thead th {\n        text-align: right;\n    }\n</style>\n<table border=\"1\" class=\"dataframe\">\n  <thead>\n    <tr style=\"text-align: right;\">\n      <th></th>\n      <th>2021-01-01</th>\n      <th>2021-01-02</th>\n      <th>2021-01-03</th>\n      <th>2021-01-04</th>\n      <th>2021-01-05</th>\n      <th>2021-01-06</th>\n    </tr>\n  </thead>\n  <tbody>\n    <tr>\n      <th>A</th>\n      <td>0.204788</td>\n      <td>-0.503382</td>\n      <td>-0.926644</td>\n      <td>-0.809259</td>\n      <td>-0.799673</td>\n      <td>0.209656</td>\n    </tr>\n    <tr>\n      <th>B</th>\n      <td>1.379574</td>\n      <td>-0.069344</td>\n      <td>0.322210</td>\n      <td>0.326563</td>\n      <td>0.207367</td>\n      <td>-2.197293</td>\n    </tr>\n    <tr>\n      <th>C</th>\n      <td>-2.566273</td>\n      <td>-0.326523</td>\n      <td>1.338908</td>\n      <td>-1.206278</td>\n      <td>0.367547</td>\n      <td>0.638939</td>\n    </tr>\n    <tr>\n      <th>D</th>\n      <td>-0.533431</td>\n      <td>0.335970</td>\n      <td>-0.106558</td>\n      <td>0.858915</td>\n      <td>2.193494</td>\n      <td>-0.121100</td>\n    </tr>\n  </tbody>\n</table>\n</div>"
     },
     "metadata": {},
     "execution_count": 27
    }
   ],
   "source": [
    "# 데이터 전치\n",
    "df2.T"
   ]
  },
  {
   "cell_type": "code",
   "execution_count": 29,
   "metadata": {},
   "outputs": [
    {
     "output_type": "execute_result",
     "data": {
      "text/plain": [
       "                   D         C         B         A\n",
       "2021-01-01 -0.533431 -2.566273  1.379574  0.204788\n",
       "2021-01-02  0.335970 -0.326523 -0.069344 -0.503382\n",
       "2021-01-03 -0.106558  1.338908  0.322210 -0.926644\n",
       "2021-01-04  0.858915 -1.206278  0.326563 -0.809259\n",
       "2021-01-05  2.193494  0.367547  0.207367 -0.799673\n",
       "2021-01-06 -0.121100  0.638939 -2.197293  0.209656"
      ],
      "text/html": "<div>\n<style scoped>\n    .dataframe tbody tr th:only-of-type {\n        vertical-align: middle;\n    }\n\n    .dataframe tbody tr th {\n        vertical-align: top;\n    }\n\n    .dataframe thead th {\n        text-align: right;\n    }\n</style>\n<table border=\"1\" class=\"dataframe\">\n  <thead>\n    <tr style=\"text-align: right;\">\n      <th></th>\n      <th>D</th>\n      <th>C</th>\n      <th>B</th>\n      <th>A</th>\n    </tr>\n  </thead>\n  <tbody>\n    <tr>\n      <th>2021-01-01</th>\n      <td>-0.533431</td>\n      <td>-2.566273</td>\n      <td>1.379574</td>\n      <td>0.204788</td>\n    </tr>\n    <tr>\n      <th>2021-01-02</th>\n      <td>0.335970</td>\n      <td>-0.326523</td>\n      <td>-0.069344</td>\n      <td>-0.503382</td>\n    </tr>\n    <tr>\n      <th>2021-01-03</th>\n      <td>-0.106558</td>\n      <td>1.338908</td>\n      <td>0.322210</td>\n      <td>-0.926644</td>\n    </tr>\n    <tr>\n      <th>2021-01-04</th>\n      <td>0.858915</td>\n      <td>-1.206278</td>\n      <td>0.326563</td>\n      <td>-0.809259</td>\n    </tr>\n    <tr>\n      <th>2021-01-05</th>\n      <td>2.193494</td>\n      <td>0.367547</td>\n      <td>0.207367</td>\n      <td>-0.799673</td>\n    </tr>\n    <tr>\n      <th>2021-01-06</th>\n      <td>-0.121100</td>\n      <td>0.638939</td>\n      <td>-2.197293</td>\n      <td>0.209656</td>\n    </tr>\n  </tbody>\n</table>\n</div>"
     },
     "metadata": {},
     "execution_count": 29
    }
   ],
   "source": [
    "# https://hogni.tistory.com/49\n",
    "# axis (0 = 행정렬, 1= 열정렬)\n",
    "# ascending 오름차순\n",
    "df2.sort_index(axis=1, ascending=False)"
   ]
  },
  {
   "cell_type": "code",
   "execution_count": 30,
   "metadata": {},
   "outputs": [
    {
     "output_type": "execute_result",
     "data": {
      "text/plain": [
       "                   A         B         C         D\n",
       "2021-01-06  0.209656 -2.197293  0.638939 -0.121100\n",
       "2021-01-05 -0.799673  0.207367  0.367547  2.193494\n",
       "2021-01-04 -0.809259  0.326563 -1.206278  0.858915\n",
       "2021-01-03 -0.926644  0.322210  1.338908 -0.106558\n",
       "2021-01-02 -0.503382 -0.069344 -0.326523  0.335970\n",
       "2021-01-01  0.204788  1.379574 -2.566273 -0.533431"
      ],
      "text/html": "<div>\n<style scoped>\n    .dataframe tbody tr th:only-of-type {\n        vertical-align: middle;\n    }\n\n    .dataframe tbody tr th {\n        vertical-align: top;\n    }\n\n    .dataframe thead th {\n        text-align: right;\n    }\n</style>\n<table border=\"1\" class=\"dataframe\">\n  <thead>\n    <tr style=\"text-align: right;\">\n      <th></th>\n      <th>A</th>\n      <th>B</th>\n      <th>C</th>\n      <th>D</th>\n    </tr>\n  </thead>\n  <tbody>\n    <tr>\n      <th>2021-01-06</th>\n      <td>0.209656</td>\n      <td>-2.197293</td>\n      <td>0.638939</td>\n      <td>-0.121100</td>\n    </tr>\n    <tr>\n      <th>2021-01-05</th>\n      <td>-0.799673</td>\n      <td>0.207367</td>\n      <td>0.367547</td>\n      <td>2.193494</td>\n    </tr>\n    <tr>\n      <th>2021-01-04</th>\n      <td>-0.809259</td>\n      <td>0.326563</td>\n      <td>-1.206278</td>\n      <td>0.858915</td>\n    </tr>\n    <tr>\n      <th>2021-01-03</th>\n      <td>-0.926644</td>\n      <td>0.322210</td>\n      <td>1.338908</td>\n      <td>-0.106558</td>\n    </tr>\n    <tr>\n      <th>2021-01-02</th>\n      <td>-0.503382</td>\n      <td>-0.069344</td>\n      <td>-0.326523</td>\n      <td>0.335970</td>\n    </tr>\n    <tr>\n      <th>2021-01-01</th>\n      <td>0.204788</td>\n      <td>1.379574</td>\n      <td>-2.566273</td>\n      <td>-0.533431</td>\n    </tr>\n  </tbody>\n</table>\n</div>"
     },
     "metadata": {},
     "execution_count": 30
    }
   ],
   "source": [
    "df2.sort_index(axis=0, ascending=False)"
   ]
  },
  {
   "cell_type": "code",
   "execution_count": 31,
   "metadata": {},
   "outputs": [
    {
     "output_type": "execute_result",
     "data": {
      "text/plain": [
       "                   A         B         C         D\n",
       "2021-01-06  0.209656 -2.197293  0.638939 -0.121100\n",
       "2021-01-02 -0.503382 -0.069344 -0.326523  0.335970\n",
       "2021-01-05 -0.799673  0.207367  0.367547  2.193494\n",
       "2021-01-03 -0.926644  0.322210  1.338908 -0.106558\n",
       "2021-01-04 -0.809259  0.326563 -1.206278  0.858915\n",
       "2021-01-01  0.204788  1.379574 -2.566273 -0.533431"
      ],
      "text/html": "<div>\n<style scoped>\n    .dataframe tbody tr th:only-of-type {\n        vertical-align: middle;\n    }\n\n    .dataframe tbody tr th {\n        vertical-align: top;\n    }\n\n    .dataframe thead th {\n        text-align: right;\n    }\n</style>\n<table border=\"1\" class=\"dataframe\">\n  <thead>\n    <tr style=\"text-align: right;\">\n      <th></th>\n      <th>A</th>\n      <th>B</th>\n      <th>C</th>\n      <th>D</th>\n    </tr>\n  </thead>\n  <tbody>\n    <tr>\n      <th>2021-01-06</th>\n      <td>0.209656</td>\n      <td>-2.197293</td>\n      <td>0.638939</td>\n      <td>-0.121100</td>\n    </tr>\n    <tr>\n      <th>2021-01-02</th>\n      <td>-0.503382</td>\n      <td>-0.069344</td>\n      <td>-0.326523</td>\n      <td>0.335970</td>\n    </tr>\n    <tr>\n      <th>2021-01-05</th>\n      <td>-0.799673</td>\n      <td>0.207367</td>\n      <td>0.367547</td>\n      <td>2.193494</td>\n    </tr>\n    <tr>\n      <th>2021-01-03</th>\n      <td>-0.926644</td>\n      <td>0.322210</td>\n      <td>1.338908</td>\n      <td>-0.106558</td>\n    </tr>\n    <tr>\n      <th>2021-01-04</th>\n      <td>-0.809259</td>\n      <td>0.326563</td>\n      <td>-1.206278</td>\n      <td>0.858915</td>\n    </tr>\n    <tr>\n      <th>2021-01-01</th>\n      <td>0.204788</td>\n      <td>1.379574</td>\n      <td>-2.566273</td>\n      <td>-0.533431</td>\n    </tr>\n  </tbody>\n</table>\n</div>"
     },
     "metadata": {},
     "execution_count": 31
    }
   ],
   "source": [
    "# by = 값별로 정렬\n",
    "df2.sort_values(by='B')"
   ]
  },
  {
   "cell_type": "code",
   "execution_count": 35,
   "metadata": {},
   "outputs": [
    {
     "output_type": "execute_result",
     "data": {
      "text/plain": [
       "   a  b   c\n",
       "1  4  7  10\n",
       "2  5  8  11\n",
       "3  6  9  12"
      ],
      "text/html": "<div>\n<style scoped>\n    .dataframe tbody tr th:only-of-type {\n        vertical-align: middle;\n    }\n\n    .dataframe tbody tr th {\n        vertical-align: top;\n    }\n\n    .dataframe thead th {\n        text-align: right;\n    }\n</style>\n<table border=\"1\" class=\"dataframe\">\n  <thead>\n    <tr style=\"text-align: right;\">\n      <th></th>\n      <th>a</th>\n      <th>b</th>\n      <th>c</th>\n    </tr>\n  </thead>\n  <tbody>\n    <tr>\n      <th>1</th>\n      <td>4</td>\n      <td>7</td>\n      <td>10</td>\n    </tr>\n    <tr>\n      <th>2</th>\n      <td>5</td>\n      <td>8</td>\n      <td>11</td>\n    </tr>\n    <tr>\n      <th>3</th>\n      <td>6</td>\n      <td>9</td>\n      <td>12</td>\n    </tr>\n  </tbody>\n</table>\n</div>"
     },
     "metadata": {},
     "execution_count": 35
    }
   ],
   "source": [
    "# Selection\n",
    "df"
   ]
  },
  {
   "cell_type": "code",
   "execution_count": 36,
   "metadata": {},
   "outputs": [
    {
     "output_type": "execute_result",
     "data": {
      "text/plain": [
       "1    4\n",
       "2    5\n",
       "3    6\n",
       "Name: a, dtype: int64"
      ]
     },
     "metadata": {},
     "execution_count": 36
    }
   ],
   "source": [
    "df['a']"
   ]
  },
  {
   "cell_type": "code",
   "execution_count": 37,
   "metadata": {},
   "outputs": [
    {
     "output_type": "execute_result",
     "data": {
      "text/plain": [
       "   a  b   c\n",
       "1  4  7  10\n",
       "2  5  8  11"
      ],
      "text/html": "<div>\n<style scoped>\n    .dataframe tbody tr th:only-of-type {\n        vertical-align: middle;\n    }\n\n    .dataframe tbody tr th {\n        vertical-align: top;\n    }\n\n    .dataframe thead th {\n        text-align: right;\n    }\n</style>\n<table border=\"1\" class=\"dataframe\">\n  <thead>\n    <tr style=\"text-align: right;\">\n      <th></th>\n      <th>a</th>\n      <th>b</th>\n      <th>c</th>\n    </tr>\n  </thead>\n  <tbody>\n    <tr>\n      <th>1</th>\n      <td>4</td>\n      <td>7</td>\n      <td>10</td>\n    </tr>\n    <tr>\n      <th>2</th>\n      <td>5</td>\n      <td>8</td>\n      <td>11</td>\n    </tr>\n  </tbody>\n</table>\n</div>"
     },
     "metadata": {},
     "execution_count": 37
    }
   ],
   "source": [
    "# 탐색 영역 지정\n",
    "df[0:2]"
   ]
  },
  {
   "cell_type": "code",
   "execution_count": 38,
   "metadata": {},
   "outputs": [
    {
     "output_type": "execute_result",
     "data": {
      "text/plain": [
       "                   A         B         C         D\n",
       "2021-01-01  0.204788  1.379574 -2.566273 -0.533431\n",
       "2021-01-02 -0.503382 -0.069344 -0.326523  0.335970\n",
       "2021-01-03 -0.926644  0.322210  1.338908 -0.106558"
      ],
      "text/html": "<div>\n<style scoped>\n    .dataframe tbody tr th:only-of-type {\n        vertical-align: middle;\n    }\n\n    .dataframe tbody tr th {\n        vertical-align: top;\n    }\n\n    .dataframe thead th {\n        text-align: right;\n    }\n</style>\n<table border=\"1\" class=\"dataframe\">\n  <thead>\n    <tr style=\"text-align: right;\">\n      <th></th>\n      <th>A</th>\n      <th>B</th>\n      <th>C</th>\n      <th>D</th>\n    </tr>\n  </thead>\n  <tbody>\n    <tr>\n      <th>2021-01-01</th>\n      <td>0.204788</td>\n      <td>1.379574</td>\n      <td>-2.566273</td>\n      <td>-0.533431</td>\n    </tr>\n    <tr>\n      <th>2021-01-02</th>\n      <td>-0.503382</td>\n      <td>-0.069344</td>\n      <td>-0.326523</td>\n      <td>0.335970</td>\n    </tr>\n    <tr>\n      <th>2021-01-03</th>\n      <td>-0.926644</td>\n      <td>0.322210</td>\n      <td>1.338908</td>\n      <td>-0.106558</td>\n    </tr>\n  </tbody>\n</table>\n</div>"
     },
     "metadata": {},
     "execution_count": 38
    }
   ],
   "source": [
    "# 인덱스로 탐색할 수도 있다.\n",
    "df2['20210101':'20210103']"
   ]
  },
  {
   "cell_type": "code",
   "execution_count": 41,
   "metadata": {},
   "outputs": [
    {
     "output_type": "execute_result",
     "data": {
      "text/plain": [
       "A    0.204788\n",
       "B    1.379574\n",
       "C   -2.566273\n",
       "D   -0.533431\n",
       "Name: 2021-01-01 00:00:00, dtype: float64"
      ]
     },
     "metadata": {},
     "execution_count": 41
    }
   ],
   "source": [
    "# dates[0] == '20210101' 의 모든 column을 인덱싱\n",
    "df2.loc[dates[0]]"
   ]
  },
  {
   "cell_type": "code",
   "execution_count": 40,
   "metadata": {},
   "outputs": [
    {
     "output_type": "execute_result",
     "data": {
      "text/plain": [
       "                   A         B         C         D\n",
       "2021-01-01  0.204788  1.379574 -2.566273 -0.533431\n",
       "2021-01-02 -0.503382 -0.069344 -0.326523  0.335970\n",
       "2021-01-03 -0.926644  0.322210  1.338908 -0.106558\n",
       "2021-01-04 -0.809259  0.326563 -1.206278  0.858915\n",
       "2021-01-05 -0.799673  0.207367  0.367547  2.193494\n",
       "2021-01-06  0.209656 -2.197293  0.638939 -0.121100"
      ],
      "text/html": "<div>\n<style scoped>\n    .dataframe tbody tr th:only-of-type {\n        vertical-align: middle;\n    }\n\n    .dataframe tbody tr th {\n        vertical-align: top;\n    }\n\n    .dataframe thead th {\n        text-align: right;\n    }\n</style>\n<table border=\"1\" class=\"dataframe\">\n  <thead>\n    <tr style=\"text-align: right;\">\n      <th></th>\n      <th>A</th>\n      <th>B</th>\n      <th>C</th>\n      <th>D</th>\n    </tr>\n  </thead>\n  <tbody>\n    <tr>\n      <th>2021-01-01</th>\n      <td>0.204788</td>\n      <td>1.379574</td>\n      <td>-2.566273</td>\n      <td>-0.533431</td>\n    </tr>\n    <tr>\n      <th>2021-01-02</th>\n      <td>-0.503382</td>\n      <td>-0.069344</td>\n      <td>-0.326523</td>\n      <td>0.335970</td>\n    </tr>\n    <tr>\n      <th>2021-01-03</th>\n      <td>-0.926644</td>\n      <td>0.322210</td>\n      <td>1.338908</td>\n      <td>-0.106558</td>\n    </tr>\n    <tr>\n      <th>2021-01-04</th>\n      <td>-0.809259</td>\n      <td>0.326563</td>\n      <td>-1.206278</td>\n      <td>0.858915</td>\n    </tr>\n    <tr>\n      <th>2021-01-05</th>\n      <td>-0.799673</td>\n      <td>0.207367</td>\n      <td>0.367547</td>\n      <td>2.193494</td>\n    </tr>\n    <tr>\n      <th>2021-01-06</th>\n      <td>0.209656</td>\n      <td>-2.197293</td>\n      <td>0.638939</td>\n      <td>-0.121100</td>\n    </tr>\n  </tbody>\n</table>\n</div>"
     },
     "metadata": {},
     "execution_count": 40
    }
   ],
   "source": [
    "df2"
   ]
  },
  {
   "cell_type": "code",
   "execution_count": 42,
   "metadata": {},
   "outputs": [
    {
     "output_type": "execute_result",
     "data": {
      "text/plain": [
       "                   A         B\n",
       "2021-01-01  0.204788  1.379574\n",
       "2021-01-02 -0.503382 -0.069344\n",
       "2021-01-03 -0.926644  0.322210\n",
       "2021-01-04 -0.809259  0.326563\n",
       "2021-01-05 -0.799673  0.207367\n",
       "2021-01-06  0.209656 -2.197293"
      ],
      "text/html": "<div>\n<style scoped>\n    .dataframe tbody tr th:only-of-type {\n        vertical-align: middle;\n    }\n\n    .dataframe tbody tr th {\n        vertical-align: top;\n    }\n\n    .dataframe thead th {\n        text-align: right;\n    }\n</style>\n<table border=\"1\" class=\"dataframe\">\n  <thead>\n    <tr style=\"text-align: right;\">\n      <th></th>\n      <th>A</th>\n      <th>B</th>\n    </tr>\n  </thead>\n  <tbody>\n    <tr>\n      <th>2021-01-01</th>\n      <td>0.204788</td>\n      <td>1.379574</td>\n    </tr>\n    <tr>\n      <th>2021-01-02</th>\n      <td>-0.503382</td>\n      <td>-0.069344</td>\n    </tr>\n    <tr>\n      <th>2021-01-03</th>\n      <td>-0.926644</td>\n      <td>0.322210</td>\n    </tr>\n    <tr>\n      <th>2021-01-04</th>\n      <td>-0.809259</td>\n      <td>0.326563</td>\n    </tr>\n    <tr>\n      <th>2021-01-05</th>\n      <td>-0.799673</td>\n      <td>0.207367</td>\n    </tr>\n    <tr>\n      <th>2021-01-06</th>\n      <td>0.209656</td>\n      <td>-2.197293</td>\n    </tr>\n  </tbody>\n</table>\n</div>"
     },
     "metadata": {},
     "execution_count": 42
    }
   ],
   "source": [
    "# 모든 row의 A,B 인덱싱\n",
    "df2.loc[:,['A','B']]"
   ]
  },
  {
   "cell_type": "code",
   "execution_count": 44,
   "metadata": {},
   "outputs": [
    {
     "output_type": "execute_result",
     "data": {
      "text/plain": [
       "                   A         B\n",
       "2021-01-01  0.204788  1.379574\n",
       "2021-01-02 -0.503382 -0.069344\n",
       "2021-01-03 -0.926644  0.322210"
      ],
      "text/html": "<div>\n<style scoped>\n    .dataframe tbody tr th:only-of-type {\n        vertical-align: middle;\n    }\n\n    .dataframe tbody tr th {\n        vertical-align: top;\n    }\n\n    .dataframe thead th {\n        text-align: right;\n    }\n</style>\n<table border=\"1\" class=\"dataframe\">\n  <thead>\n    <tr style=\"text-align: right;\">\n      <th></th>\n      <th>A</th>\n      <th>B</th>\n    </tr>\n  </thead>\n  <tbody>\n    <tr>\n      <th>2021-01-01</th>\n      <td>0.204788</td>\n      <td>1.379574</td>\n    </tr>\n    <tr>\n      <th>2021-01-02</th>\n      <td>-0.503382</td>\n      <td>-0.069344</td>\n    </tr>\n    <tr>\n      <th>2021-01-03</th>\n      <td>-0.926644</td>\n      <td>0.322210</td>\n    </tr>\n  </tbody>\n</table>\n</div>"
     },
     "metadata": {},
     "execution_count": 44
    }
   ],
   "source": [
    "df2.loc['20210101':'20210103', ['A','B']]"
   ]
  },
  {
   "cell_type": "code",
   "execution_count": 45,
   "metadata": {},
   "outputs": [
    {
     "output_type": "execute_result",
     "data": {
      "text/plain": [
       "0.2047881093624374"
      ]
     },
     "metadata": {},
     "execution_count": 45
    }
   ],
   "source": [
    "# 스칼라 값\n",
    "df2.at[dates[0],'A']"
   ]
  },
  {
   "cell_type": "code",
   "execution_count": 46,
   "metadata": {},
   "outputs": [
    {
     "output_type": "execute_result",
     "data": {
      "text/plain": [
       "A   -0.809259\n",
       "B    0.326563\n",
       "C   -1.206278\n",
       "D    0.858915\n",
       "Name: 2021-01-04 00:00:00, dtype: float64"
      ]
     },
     "metadata": {},
     "execution_count": 46
    }
   ],
   "source": [
    "# 3번째 행 출력\n",
    "df2.iloc[3]"
   ]
  },
  {
   "cell_type": "code",
   "execution_count": 48,
   "metadata": {},
   "outputs": [
    {
     "output_type": "execute_result",
     "data": {
      "text/plain": [
       "                   A         B\n",
       "2021-01-04 -0.809259  0.326563\n",
       "2021-01-05 -0.799673  0.207367"
      ],
      "text/html": "<div>\n<style scoped>\n    .dataframe tbody tr th:only-of-type {\n        vertical-align: middle;\n    }\n\n    .dataframe tbody tr th {\n        vertical-align: top;\n    }\n\n    .dataframe thead th {\n        text-align: right;\n    }\n</style>\n<table border=\"1\" class=\"dataframe\">\n  <thead>\n    <tr style=\"text-align: right;\">\n      <th></th>\n      <th>A</th>\n      <th>B</th>\n    </tr>\n  </thead>\n  <tbody>\n    <tr>\n      <th>2021-01-04</th>\n      <td>-0.809259</td>\n      <td>0.326563</td>\n    </tr>\n    <tr>\n      <th>2021-01-05</th>\n      <td>-0.799673</td>\n      <td>0.207367</td>\n    </tr>\n  </tbody>\n</table>\n</div>"
     },
     "metadata": {},
     "execution_count": 48
    }
   ],
   "source": [
    "# 3:5행 0:2열 출력\n",
    "df2.iloc[3:5, 0:2]"
   ]
  },
  {
   "cell_type": "code",
   "execution_count": 49,
   "metadata": {},
   "outputs": [
    {
     "output_type": "execute_result",
     "data": {
      "text/plain": [
       "                   A         C\n",
       "2021-01-02 -0.503382 -0.326523\n",
       "2021-01-03 -0.926644  1.338908\n",
       "2021-01-05 -0.799673  0.367547"
      ],
      "text/html": "<div>\n<style scoped>\n    .dataframe tbody tr th:only-of-type {\n        vertical-align: middle;\n    }\n\n    .dataframe tbody tr th {\n        vertical-align: top;\n    }\n\n    .dataframe thead th {\n        text-align: right;\n    }\n</style>\n<table border=\"1\" class=\"dataframe\">\n  <thead>\n    <tr style=\"text-align: right;\">\n      <th></th>\n      <th>A</th>\n      <th>C</th>\n    </tr>\n  </thead>\n  <tbody>\n    <tr>\n      <th>2021-01-02</th>\n      <td>-0.503382</td>\n      <td>-0.326523</td>\n    </tr>\n    <tr>\n      <th>2021-01-03</th>\n      <td>-0.926644</td>\n      <td>1.338908</td>\n    </tr>\n    <tr>\n      <th>2021-01-05</th>\n      <td>-0.799673</td>\n      <td>0.367547</td>\n    </tr>\n  </tbody>\n</table>\n</div>"
     },
     "metadata": {},
     "execution_count": 49
    }
   ],
   "source": [
    "# 1,2,4 행 0,2열 출력\n",
    "df2.iloc[[1,2,4],[0,2]]"
   ]
  },
  {
   "cell_type": "code",
   "execution_count": 50,
   "metadata": {},
   "outputs": [
    {
     "output_type": "execute_result",
     "data": {
      "text/plain": [
       "                   A         B         C         D\n",
       "2021-01-02 -0.503382 -0.069344 -0.326523  0.335970\n",
       "2021-01-03 -0.926644  0.322210  1.338908 -0.106558"
      ],
      "text/html": "<div>\n<style scoped>\n    .dataframe tbody tr th:only-of-type {\n        vertical-align: middle;\n    }\n\n    .dataframe tbody tr th {\n        vertical-align: top;\n    }\n\n    .dataframe thead th {\n        text-align: right;\n    }\n</style>\n<table border=\"1\" class=\"dataframe\">\n  <thead>\n    <tr style=\"text-align: right;\">\n      <th></th>\n      <th>A</th>\n      <th>B</th>\n      <th>C</th>\n      <th>D</th>\n    </tr>\n  </thead>\n  <tbody>\n    <tr>\n      <th>2021-01-02</th>\n      <td>-0.503382</td>\n      <td>-0.069344</td>\n      <td>-0.326523</td>\n      <td>0.335970</td>\n    </tr>\n    <tr>\n      <th>2021-01-03</th>\n      <td>-0.926644</td>\n      <td>0.322210</td>\n      <td>1.338908</td>\n      <td>-0.106558</td>\n    </tr>\n  </tbody>\n</table>\n</div>"
     },
     "metadata": {},
     "execution_count": 50
    }
   ],
   "source": [
    "# 1:3행 전체 열 출력\n",
    "df2.iloc[1:3,:]"
   ]
  },
  {
   "cell_type": "code",
   "execution_count": 51,
   "metadata": {},
   "outputs": [
    {
     "output_type": "execute_result",
     "data": {
      "text/plain": [
       "-0.06934359504094248"
      ]
     },
     "metadata": {},
     "execution_count": 51
    }
   ],
   "source": [
    "# 특정 값 추출 -> df.iat[1,1] 과 동일\n",
    "df2.iloc[1,1]"
   ]
  },
  {
   "cell_type": "code",
   "execution_count": 52,
   "metadata": {},
   "outputs": [
    {
     "output_type": "execute_result",
     "data": {
      "text/plain": [
       "                   A         B         C         D\n",
       "2021-01-01  0.204788  1.379574       NaN       NaN\n",
       "2021-01-02       NaN       NaN       NaN  0.335970\n",
       "2021-01-03       NaN  0.322210  1.338908       NaN\n",
       "2021-01-04       NaN  0.326563       NaN  0.858915\n",
       "2021-01-05       NaN  0.207367  0.367547  2.193494\n",
       "2021-01-06  0.209656       NaN  0.638939       NaN"
      ],
      "text/html": "<div>\n<style scoped>\n    .dataframe tbody tr th:only-of-type {\n        vertical-align: middle;\n    }\n\n    .dataframe tbody tr th {\n        vertical-align: top;\n    }\n\n    .dataframe thead th {\n        text-align: right;\n    }\n</style>\n<table border=\"1\" class=\"dataframe\">\n  <thead>\n    <tr style=\"text-align: right;\">\n      <th></th>\n      <th>A</th>\n      <th>B</th>\n      <th>C</th>\n      <th>D</th>\n    </tr>\n  </thead>\n  <tbody>\n    <tr>\n      <th>2021-01-01</th>\n      <td>0.204788</td>\n      <td>1.379574</td>\n      <td>NaN</td>\n      <td>NaN</td>\n    </tr>\n    <tr>\n      <th>2021-01-02</th>\n      <td>NaN</td>\n      <td>NaN</td>\n      <td>NaN</td>\n      <td>0.335970</td>\n    </tr>\n    <tr>\n      <th>2021-01-03</th>\n      <td>NaN</td>\n      <td>0.322210</td>\n      <td>1.338908</td>\n      <td>NaN</td>\n    </tr>\n    <tr>\n      <th>2021-01-04</th>\n      <td>NaN</td>\n      <td>0.326563</td>\n      <td>NaN</td>\n      <td>0.858915</td>\n    </tr>\n    <tr>\n      <th>2021-01-05</th>\n      <td>NaN</td>\n      <td>0.207367</td>\n      <td>0.367547</td>\n      <td>2.193494</td>\n    </tr>\n    <tr>\n      <th>2021-01-06</th>\n      <td>0.209656</td>\n      <td>NaN</td>\n      <td>0.638939</td>\n      <td>NaN</td>\n    </tr>\n  </tbody>\n</table>\n</div>"
     },
     "metadata": {},
     "execution_count": 52
    }
   ],
   "source": [
    "# 조건을 총족하는 값만을 출력\n",
    "df2[df2 > 0]"
   ]
  },
  {
   "cell_type": "code",
   "execution_count": 53,
   "metadata": {},
   "outputs": [
    {
     "output_type": "execute_result",
     "data": {
      "text/plain": [
       "                   A         B\n",
       "2021-01-01  0.204788  1.379574\n",
       "2021-01-02 -0.503382 -0.069344\n",
       "2021-01-03 -0.926644  0.322210\n",
       "2021-01-04 -0.809259  0.326563\n",
       "2021-01-05 -0.799673  0.207367\n",
       "2021-01-06  0.209656 -2.197293"
      ],
      "text/html": "<div>\n<style scoped>\n    .dataframe tbody tr th:only-of-type {\n        vertical-align: middle;\n    }\n\n    .dataframe tbody tr th {\n        vertical-align: top;\n    }\n\n    .dataframe thead th {\n        text-align: right;\n    }\n</style>\n<table border=\"1\" class=\"dataframe\">\n  <thead>\n    <tr style=\"text-align: right;\">\n      <th></th>\n      <th>A</th>\n      <th>B</th>\n    </tr>\n  </thead>\n  <tbody>\n    <tr>\n      <th>2021-01-01</th>\n      <td>0.204788</td>\n      <td>1.379574</td>\n    </tr>\n    <tr>\n      <th>2021-01-02</th>\n      <td>-0.503382</td>\n      <td>-0.069344</td>\n    </tr>\n    <tr>\n      <th>2021-01-03</th>\n      <td>-0.926644</td>\n      <td>0.322210</td>\n    </tr>\n    <tr>\n      <th>2021-01-04</th>\n      <td>-0.809259</td>\n      <td>0.326563</td>\n    </tr>\n    <tr>\n      <th>2021-01-05</th>\n      <td>-0.799673</td>\n      <td>0.207367</td>\n    </tr>\n    <tr>\n      <th>2021-01-06</th>\n      <td>0.209656</td>\n      <td>-2.197293</td>\n    </tr>\n  </tbody>\n</table>\n</div>"
     },
     "metadata": {},
     "execution_count": 53
    }
   ],
   "source": [
    "# 두 개 이상의 값을 불러 올때는 DataFrame 형태로 불러와야 함\n",
    "df2[[\"A\", \"B\"]]"
   ]
  },
  {
   "cell_type": "code",
   "execution_count": 54,
   "metadata": {},
   "outputs": [
    {
     "output_type": "execute_result",
     "data": {
      "text/plain": [
       "                   A         B         C         D      E\n",
       "2021-01-01  0.204788  1.379574 -2.566273 -0.533431    one\n",
       "2021-01-02 -0.503382 -0.069344 -0.326523  0.335970    one\n",
       "2021-01-03 -0.926644  0.322210  1.338908 -0.106558    two\n",
       "2021-01-04 -0.809259  0.326563 -1.206278  0.858915  three\n",
       "2021-01-05 -0.799673  0.207367  0.367547  2.193494   four\n",
       "2021-01-06  0.209656 -2.197293  0.638939 -0.121100  three"
      ],
      "text/html": "<div>\n<style scoped>\n    .dataframe tbody tr th:only-of-type {\n        vertical-align: middle;\n    }\n\n    .dataframe tbody tr th {\n        vertical-align: top;\n    }\n\n    .dataframe thead th {\n        text-align: right;\n    }\n</style>\n<table border=\"1\" class=\"dataframe\">\n  <thead>\n    <tr style=\"text-align: right;\">\n      <th></th>\n      <th>A</th>\n      <th>B</th>\n      <th>C</th>\n      <th>D</th>\n      <th>E</th>\n    </tr>\n  </thead>\n  <tbody>\n    <tr>\n      <th>2021-01-01</th>\n      <td>0.204788</td>\n      <td>1.379574</td>\n      <td>-2.566273</td>\n      <td>-0.533431</td>\n      <td>one</td>\n    </tr>\n    <tr>\n      <th>2021-01-02</th>\n      <td>-0.503382</td>\n      <td>-0.069344</td>\n      <td>-0.326523</td>\n      <td>0.335970</td>\n      <td>one</td>\n    </tr>\n    <tr>\n      <th>2021-01-03</th>\n      <td>-0.926644</td>\n      <td>0.322210</td>\n      <td>1.338908</td>\n      <td>-0.106558</td>\n      <td>two</td>\n    </tr>\n    <tr>\n      <th>2021-01-04</th>\n      <td>-0.809259</td>\n      <td>0.326563</td>\n      <td>-1.206278</td>\n      <td>0.858915</td>\n      <td>three</td>\n    </tr>\n    <tr>\n      <th>2021-01-05</th>\n      <td>-0.799673</td>\n      <td>0.207367</td>\n      <td>0.367547</td>\n      <td>2.193494</td>\n      <td>four</td>\n    </tr>\n    <tr>\n      <th>2021-01-06</th>\n      <td>0.209656</td>\n      <td>-2.197293</td>\n      <td>0.638939</td>\n      <td>-0.121100</td>\n      <td>three</td>\n    </tr>\n  </tbody>\n</table>\n</div>"
     },
     "metadata": {},
     "execution_count": 54
    }
   ],
   "source": [
    "dfCopy = df2.copy()\n",
    "dfCopy['E'] = ['one', 'one', 'two', 'three', 'four', 'three']\n",
    "dfCopy"
   ]
  },
  {
   "cell_type": "code",
   "execution_count": 55,
   "metadata": {},
   "outputs": [
    {
     "output_type": "execute_result",
     "data": {
      "text/plain": [
       "                   A         B         C         D     E\n",
       "2021-01-03 -0.926644  0.322210  1.338908 -0.106558   two\n",
       "2021-01-05 -0.799673  0.207367  0.367547  2.193494  four"
      ],
      "text/html": "<div>\n<style scoped>\n    .dataframe tbody tr th:only-of-type {\n        vertical-align: middle;\n    }\n\n    .dataframe tbody tr th {\n        vertical-align: top;\n    }\n\n    .dataframe thead th {\n        text-align: right;\n    }\n</style>\n<table border=\"1\" class=\"dataframe\">\n  <thead>\n    <tr style=\"text-align: right;\">\n      <th></th>\n      <th>A</th>\n      <th>B</th>\n      <th>C</th>\n      <th>D</th>\n      <th>E</th>\n    </tr>\n  </thead>\n  <tbody>\n    <tr>\n      <th>2021-01-03</th>\n      <td>-0.926644</td>\n      <td>0.322210</td>\n      <td>1.338908</td>\n      <td>-0.106558</td>\n      <td>two</td>\n    </tr>\n    <tr>\n      <th>2021-01-05</th>\n      <td>-0.799673</td>\n      <td>0.207367</td>\n      <td>0.367547</td>\n      <td>2.193494</td>\n      <td>four</td>\n    </tr>\n  </tbody>\n</table>\n</div>"
     },
     "metadata": {},
     "execution_count": 55
    }
   ],
   "source": [
    "# 필터링 (isin)\n",
    "dfCopy[dfCopy['E'].isin(['two','four'])]"
   ]
  },
  {
   "cell_type": "code",
   "execution_count": 56,
   "metadata": {},
   "outputs": [
    {
     "output_type": "execute_result",
     "data": {
      "text/plain": [
       "0    1.0\n",
       "1    3.0\n",
       "2    5.0\n",
       "3    NaN\n",
       "4    6.0\n",
       "5    8.0\n",
       "dtype: float64"
      ]
     },
     "metadata": {},
     "execution_count": 56
    }
   ],
   "source": [
    "s"
   ]
  },
  {
   "cell_type": "code",
   "execution_count": 60,
   "metadata": {},
   "outputs": [
    {
     "output_type": "execute_result",
     "data": {
      "text/plain": [
       "                   A         B         C  D   F\n",
       "2021-01-01  0.000000  0.000000 -2.566273  5 NaN\n",
       "2021-01-02 -0.503382 -0.069344 -0.326523  5 NaN\n",
       "2021-01-03 -0.926644  0.322210  1.338908  5 NaN\n",
       "2021-01-04 -0.809259  0.326563 -1.206278  5 NaN\n",
       "2021-01-05 -0.799673  0.207367  0.367547  5 NaN\n",
       "2021-01-06  0.209656 -2.197293  0.638939  5 NaN"
      ],
      "text/html": "<div>\n<style scoped>\n    .dataframe tbody tr th:only-of-type {\n        vertical-align: middle;\n    }\n\n    .dataframe tbody tr th {\n        vertical-align: top;\n    }\n\n    .dataframe thead th {\n        text-align: right;\n    }\n</style>\n<table border=\"1\" class=\"dataframe\">\n  <thead>\n    <tr style=\"text-align: right;\">\n      <th></th>\n      <th>A</th>\n      <th>B</th>\n      <th>C</th>\n      <th>D</th>\n      <th>F</th>\n    </tr>\n  </thead>\n  <tbody>\n    <tr>\n      <th>2021-01-01</th>\n      <td>0.000000</td>\n      <td>0.000000</td>\n      <td>-2.566273</td>\n      <td>5</td>\n      <td>NaN</td>\n    </tr>\n    <tr>\n      <th>2021-01-02</th>\n      <td>-0.503382</td>\n      <td>-0.069344</td>\n      <td>-0.326523</td>\n      <td>5</td>\n      <td>NaN</td>\n    </tr>\n    <tr>\n      <th>2021-01-03</th>\n      <td>-0.926644</td>\n      <td>0.322210</td>\n      <td>1.338908</td>\n      <td>5</td>\n      <td>NaN</td>\n    </tr>\n    <tr>\n      <th>2021-01-04</th>\n      <td>-0.809259</td>\n      <td>0.326563</td>\n      <td>-1.206278</td>\n      <td>5</td>\n      <td>NaN</td>\n    </tr>\n    <tr>\n      <th>2021-01-05</th>\n      <td>-0.799673</td>\n      <td>0.207367</td>\n      <td>0.367547</td>\n      <td>5</td>\n      <td>NaN</td>\n    </tr>\n    <tr>\n      <th>2021-01-06</th>\n      <td>0.209656</td>\n      <td>-2.197293</td>\n      <td>0.638939</td>\n      <td>5</td>\n      <td>NaN</td>\n    </tr>\n  </tbody>\n</table>\n</div>"
     },
     "metadata": {},
     "execution_count": 60
    }
   ],
   "source": [
    "df2['F'] = s\n",
    "df2.at[dates[0],'A'] = 0\n",
    "df2.iat[0,1] = 0\n",
    "df2.loc[:,'D'] = np.array([5] * len(df2))\n",
    "df2"
   ]
  },
  {
   "cell_type": "code",
   "execution_count": 70,
   "metadata": {},
   "outputs": [
    {
     "output_type": "execute_result",
     "data": {
      "text/plain": [
       "                   A         B         C  D   F    E\n",
       "2021-01-01  0.000000  0.000000 -2.566273  5 NaN  1.0\n",
       "2021-01-02 -0.503382 -0.069344 -0.326523  5 NaN  1.0\n",
       "2021-01-03 -0.926644  0.322210  1.338908  5 NaN  NaN\n",
       "2021-01-04 -0.809259  0.326563 -1.206278  5 NaN  NaN"
      ],
      "text/html": "<div>\n<style scoped>\n    .dataframe tbody tr th:only-of-type {\n        vertical-align: middle;\n    }\n\n    .dataframe tbody tr th {\n        vertical-align: top;\n    }\n\n    .dataframe thead th {\n        text-align: right;\n    }\n</style>\n<table border=\"1\" class=\"dataframe\">\n  <thead>\n    <tr style=\"text-align: right;\">\n      <th></th>\n      <th>A</th>\n      <th>B</th>\n      <th>C</th>\n      <th>D</th>\n      <th>F</th>\n      <th>E</th>\n    </tr>\n  </thead>\n  <tbody>\n    <tr>\n      <th>2021-01-01</th>\n      <td>0.000000</td>\n      <td>0.000000</td>\n      <td>-2.566273</td>\n      <td>5</td>\n      <td>NaN</td>\n      <td>1.0</td>\n    </tr>\n    <tr>\n      <th>2021-01-02</th>\n      <td>-0.503382</td>\n      <td>-0.069344</td>\n      <td>-0.326523</td>\n      <td>5</td>\n      <td>NaN</td>\n      <td>1.0</td>\n    </tr>\n    <tr>\n      <th>2021-01-03</th>\n      <td>-0.926644</td>\n      <td>0.322210</td>\n      <td>1.338908</td>\n      <td>5</td>\n      <td>NaN</td>\n      <td>NaN</td>\n    </tr>\n    <tr>\n      <th>2021-01-04</th>\n      <td>-0.809259</td>\n      <td>0.326563</td>\n      <td>-1.206278</td>\n      <td>5</td>\n      <td>NaN</td>\n      <td>NaN</td>\n    </tr>\n  </tbody>\n</table>\n</div>"
     },
     "metadata": {},
     "execution_count": 70
    }
   ],
   "source": [
    "# Missing Data (결측치)\n",
    "\n",
    "# 결측치를 표현하기 위해 주로 np.nan 값을 사용, 계산에는 반영되지 않음\n",
    "# Reindexing으로 지정된 축 상의 인덱스를 변경 / 추가 / 삭제할 수 있고 기본적으로 데이터의 복사본을 반환.\n",
    "df1 = df2.reindex(index=dates[0:4], columns=list(df2.columns) + ['E'])\n",
    "df1.loc[dates[0]:dates[1],'E'] = 1\n",
    "df1"
   ]
  },
  {
   "cell_type": "code",
   "execution_count": 71,
   "metadata": {},
   "outputs": [
    {
     "output_type": "execute_result",
     "data": {
      "text/plain": [
       "                   A         B         C  D    E\n",
       "2021-01-01  0.000000  0.000000 -2.566273  5  1.0\n",
       "2021-01-02 -0.503382 -0.069344 -0.326523  5  1.0\n",
       "2021-01-03 -0.926644  0.322210  1.338908  5  NaN\n",
       "2021-01-04 -0.809259  0.326563 -1.206278  5  NaN"
      ],
      "text/html": "<div>\n<style scoped>\n    .dataframe tbody tr th:only-of-type {\n        vertical-align: middle;\n    }\n\n    .dataframe tbody tr th {\n        vertical-align: top;\n    }\n\n    .dataframe thead th {\n        text-align: right;\n    }\n</style>\n<table border=\"1\" class=\"dataframe\">\n  <thead>\n    <tr style=\"text-align: right;\">\n      <th></th>\n      <th>A</th>\n      <th>B</th>\n      <th>C</th>\n      <th>D</th>\n      <th>E</th>\n    </tr>\n  </thead>\n  <tbody>\n    <tr>\n      <th>2021-01-01</th>\n      <td>0.000000</td>\n      <td>0.000000</td>\n      <td>-2.566273</td>\n      <td>5</td>\n      <td>1.0</td>\n    </tr>\n    <tr>\n      <th>2021-01-02</th>\n      <td>-0.503382</td>\n      <td>-0.069344</td>\n      <td>-0.326523</td>\n      <td>5</td>\n      <td>1.0</td>\n    </tr>\n    <tr>\n      <th>2021-01-03</th>\n      <td>-0.926644</td>\n      <td>0.322210</td>\n      <td>1.338908</td>\n      <td>5</td>\n      <td>NaN</td>\n    </tr>\n    <tr>\n      <th>2021-01-04</th>\n      <td>-0.809259</td>\n      <td>0.326563</td>\n      <td>-1.206278</td>\n      <td>5</td>\n      <td>NaN</td>\n    </tr>\n  </tbody>\n</table>\n</div>"
     },
     "metadata": {},
     "execution_count": 71
    }
   ],
   "source": [
    "# F 칼럼 지우기\n",
    "\n",
    "df1 = df1.drop(['F'], axis=1)\n",
    "df1"
   ]
  },
  {
   "cell_type": "code",
   "execution_count": 72,
   "metadata": {},
   "outputs": [
    {
     "output_type": "execute_result",
     "data": {
      "text/plain": [
       "                   A         B         C  D    E\n",
       "2021-01-01  0.000000  0.000000 -2.566273  5  1.0\n",
       "2021-01-02 -0.503382 -0.069344 -0.326523  5  1.0"
      ],
      "text/html": "<div>\n<style scoped>\n    .dataframe tbody tr th:only-of-type {\n        vertical-align: middle;\n    }\n\n    .dataframe tbody tr th {\n        vertical-align: top;\n    }\n\n    .dataframe thead th {\n        text-align: right;\n    }\n</style>\n<table border=\"1\" class=\"dataframe\">\n  <thead>\n    <tr style=\"text-align: right;\">\n      <th></th>\n      <th>A</th>\n      <th>B</th>\n      <th>C</th>\n      <th>D</th>\n      <th>E</th>\n    </tr>\n  </thead>\n  <tbody>\n    <tr>\n      <th>2021-01-01</th>\n      <td>0.000000</td>\n      <td>0.000000</td>\n      <td>-2.566273</td>\n      <td>5</td>\n      <td>1.0</td>\n    </tr>\n    <tr>\n      <th>2021-01-02</th>\n      <td>-0.503382</td>\n      <td>-0.069344</td>\n      <td>-0.326523</td>\n      <td>5</td>\n      <td>1.0</td>\n    </tr>\n  </tbody>\n</table>\n</div>"
     },
     "metadata": {},
     "execution_count": 72
    }
   ],
   "source": [
    "# 결측치(NaN)을 가지고 있는 행 삭제\n",
    "\n",
    "df1.dropna(how='any')"
   ]
  },
  {
   "cell_type": "code",
   "execution_count": 75,
   "metadata": {},
   "outputs": [
    {
     "output_type": "execute_result",
     "data": {
      "text/plain": [
       "                   A         B         C  D    E\n",
       "2021-01-01  0.000000  0.000000 -2.566273  5  1.0\n",
       "2021-01-02 -0.503382 -0.069344 -0.326523  5  1.0\n",
       "2021-01-03 -0.926644  0.322210  1.338908  5  3.0\n",
       "2021-01-04 -0.809259  0.326563 -1.206278  5  3.0"
      ],
      "text/html": "<div>\n<style scoped>\n    .dataframe tbody tr th:only-of-type {\n        vertical-align: middle;\n    }\n\n    .dataframe tbody tr th {\n        vertical-align: top;\n    }\n\n    .dataframe thead th {\n        text-align: right;\n    }\n</style>\n<table border=\"1\" class=\"dataframe\">\n  <thead>\n    <tr style=\"text-align: right;\">\n      <th></th>\n      <th>A</th>\n      <th>B</th>\n      <th>C</th>\n      <th>D</th>\n      <th>E</th>\n    </tr>\n  </thead>\n  <tbody>\n    <tr>\n      <th>2021-01-01</th>\n      <td>0.000000</td>\n      <td>0.000000</td>\n      <td>-2.566273</td>\n      <td>5</td>\n      <td>1.0</td>\n    </tr>\n    <tr>\n      <th>2021-01-02</th>\n      <td>-0.503382</td>\n      <td>-0.069344</td>\n      <td>-0.326523</td>\n      <td>5</td>\n      <td>1.0</td>\n    </tr>\n    <tr>\n      <th>2021-01-03</th>\n      <td>-0.926644</td>\n      <td>0.322210</td>\n      <td>1.338908</td>\n      <td>5</td>\n      <td>3.0</td>\n    </tr>\n    <tr>\n      <th>2021-01-04</th>\n      <td>-0.809259</td>\n      <td>0.326563</td>\n      <td>-1.206278</td>\n      <td>5</td>\n      <td>3.0</td>\n    </tr>\n  </tbody>\n</table>\n</div>"
     },
     "metadata": {},
     "execution_count": 75
    }
   ],
   "source": [
    "# 결측치에 임의의 값을 채울 수도 있음\n",
    "df1.fillna(value=3)"
   ]
  },
  {
   "cell_type": "code",
   "execution_count": 76,
   "metadata": {},
   "outputs": [
    {
     "output_type": "execute_result",
     "data": {
      "text/plain": [
       "                A      B      C      D      E\n",
       "2021-01-01  False  False  False  False  False\n",
       "2021-01-02  False  False  False  False  False\n",
       "2021-01-03  False  False  False  False   True\n",
       "2021-01-04  False  False  False  False   True"
      ],
      "text/html": "<div>\n<style scoped>\n    .dataframe tbody tr th:only-of-type {\n        vertical-align: middle;\n    }\n\n    .dataframe tbody tr th {\n        vertical-align: top;\n    }\n\n    .dataframe thead th {\n        text-align: right;\n    }\n</style>\n<table border=\"1\" class=\"dataframe\">\n  <thead>\n    <tr style=\"text-align: right;\">\n      <th></th>\n      <th>A</th>\n      <th>B</th>\n      <th>C</th>\n      <th>D</th>\n      <th>E</th>\n    </tr>\n  </thead>\n  <tbody>\n    <tr>\n      <th>2021-01-01</th>\n      <td>False</td>\n      <td>False</td>\n      <td>False</td>\n      <td>False</td>\n      <td>False</td>\n    </tr>\n    <tr>\n      <th>2021-01-02</th>\n      <td>False</td>\n      <td>False</td>\n      <td>False</td>\n      <td>False</td>\n      <td>False</td>\n    </tr>\n    <tr>\n      <th>2021-01-03</th>\n      <td>False</td>\n      <td>False</td>\n      <td>False</td>\n      <td>False</td>\n      <td>True</td>\n    </tr>\n    <tr>\n      <th>2021-01-04</th>\n      <td>False</td>\n      <td>False</td>\n      <td>False</td>\n      <td>False</td>\n      <td>True</td>\n    </tr>\n  </tbody>\n</table>\n</div>"
     },
     "metadata": {},
     "execution_count": 76
    }
   ],
   "source": [
    "# DataFrame의 모든 값이 boolean 형태로 표시되도록 하며, nan인 값에만 True가 표시되게 하는 함수\n",
    "\n",
    "pd.isna(df1)"
   ]
  },
  {
   "cell_type": "code",
   "execution_count": 81,
   "metadata": {},
   "outputs": [
    {
     "output_type": "execute_result",
     "data": {
      "text/plain": [
       "A   -0.559821\n",
       "B    0.144857\n",
       "C   -0.690041\n",
       "D    5.000000\n",
       "E    1.000000\n",
       "dtype: float64"
      ]
     },
     "metadata": {},
     "execution_count": 81
    }
   ],
   "source": [
    "# Operation (연산)\n",
    "# mean 평균\n",
    "# https://nittaku.tistory.com/113\n",
    "df1.mean()\n"
   ]
  },
  {
   "cell_type": "code",
   "execution_count": 82,
   "metadata": {},
   "outputs": [
    {
     "output_type": "execute_result",
     "data": {
      "text/plain": [
       "2021-01-01    0.686745\n",
       "2021-01-02    1.020150\n",
       "2021-01-03    1.433618\n",
       "2021-01-04    0.827757\n",
       "Freq: D, dtype: float64"
      ]
     },
     "metadata": {},
     "execution_count": 82
    }
   ],
   "source": [
    "df1.mean(1)"
   ]
  },
  {
   "cell_type": "code",
   "execution_count": 90,
   "metadata": {},
   "outputs": [
    {
     "output_type": "execute_result",
     "data": {
      "text/plain": [
       "2021-01-01    NaN\n",
       "2021-01-02    1.0\n",
       "2021-01-03    3.0\n",
       "2021-01-04    5.0\n",
       "2021-01-05    NaN\n",
       "2021-01-06    6.0\n",
       "Freq: D, dtype: float64"
      ]
     },
     "metadata": {},
     "execution_count": 90
    }
   ],
   "source": [
    "# shift함수는 말그대로 쉬프트한다. 아래코드에서 1,3,4,np.nan,6,8 순으로 시리즈가 적용되어야하나 shiff(1)의 영향으로 0번째 인덱스를 건너뛰고 1번부터 적용된 것을 볼 수 있다.\n",
    "s = pd.Series([1,3,5,np.nan,6,8], index=dates).shift(1)\n",
    "s"
   ]
  },
  {
   "cell_type": "code",
   "execution_count": 91,
   "metadata": {},
   "outputs": [
    {
     "output_type": "execute_result",
     "data": {
      "text/plain": [
       "                   A         B         C    D    E\n",
       "2021-01-01       NaN       NaN       NaN  NaN  NaN\n",
       "2021-01-02 -1.503382 -1.069344 -1.326523  4.0  0.0\n",
       "2021-01-03 -3.926644 -2.677790 -1.661092  2.0  NaN\n",
       "2021-01-04 -5.809259 -4.673437 -6.206278  0.0  NaN\n",
       "2021-01-05       NaN       NaN       NaN  NaN  NaN\n",
       "2021-01-06       NaN       NaN       NaN  NaN  NaN"
      ],
      "text/html": "<div>\n<style scoped>\n    .dataframe tbody tr th:only-of-type {\n        vertical-align: middle;\n    }\n\n    .dataframe tbody tr th {\n        vertical-align: top;\n    }\n\n    .dataframe thead th {\n        text-align: right;\n    }\n</style>\n<table border=\"1\" class=\"dataframe\">\n  <thead>\n    <tr style=\"text-align: right;\">\n      <th></th>\n      <th>A</th>\n      <th>B</th>\n      <th>C</th>\n      <th>D</th>\n      <th>E</th>\n    </tr>\n  </thead>\n  <tbody>\n    <tr>\n      <th>2021-01-01</th>\n      <td>NaN</td>\n      <td>NaN</td>\n      <td>NaN</td>\n      <td>NaN</td>\n      <td>NaN</td>\n    </tr>\n    <tr>\n      <th>2021-01-02</th>\n      <td>-1.503382</td>\n      <td>-1.069344</td>\n      <td>-1.326523</td>\n      <td>4.0</td>\n      <td>0.0</td>\n    </tr>\n    <tr>\n      <th>2021-01-03</th>\n      <td>-3.926644</td>\n      <td>-2.677790</td>\n      <td>-1.661092</td>\n      <td>2.0</td>\n      <td>NaN</td>\n    </tr>\n    <tr>\n      <th>2021-01-04</th>\n      <td>-5.809259</td>\n      <td>-4.673437</td>\n      <td>-6.206278</td>\n      <td>0.0</td>\n      <td>NaN</td>\n    </tr>\n    <tr>\n      <th>2021-01-05</th>\n      <td>NaN</td>\n      <td>NaN</td>\n      <td>NaN</td>\n      <td>NaN</td>\n      <td>NaN</td>\n    </tr>\n    <tr>\n      <th>2021-01-06</th>\n      <td>NaN</td>\n      <td>NaN</td>\n      <td>NaN</td>\n      <td>NaN</td>\n      <td>NaN</td>\n    </tr>\n  </tbody>\n</table>\n</div>"
     },
     "metadata": {},
     "execution_count": 91
    }
   ],
   "source": [
    "# 합계\n",
    "\n",
    "df1.sub(s, axis='index')"
   ]
  },
  {
   "cell_type": "code",
   "execution_count": 93,
   "metadata": {},
   "outputs": [
    {
     "output_type": "execute_result",
     "data": {
      "text/plain": [
       "                   A         B         C   D    E\n",
       "2021-01-01  0.000000  0.000000 -2.566273   5  1.0\n",
       "2021-01-02 -0.503382 -0.069344 -2.892796  10  2.0\n",
       "2021-01-03 -1.430027  0.252866 -1.553888  15  NaN\n",
       "2021-01-04 -2.239285  0.579429 -2.760166  20  NaN"
      ],
      "text/html": "<div>\n<style scoped>\n    .dataframe tbody tr th:only-of-type {\n        vertical-align: middle;\n    }\n\n    .dataframe tbody tr th {\n        vertical-align: top;\n    }\n\n    .dataframe thead th {\n        text-align: right;\n    }\n</style>\n<table border=\"1\" class=\"dataframe\">\n  <thead>\n    <tr style=\"text-align: right;\">\n      <th></th>\n      <th>A</th>\n      <th>B</th>\n      <th>C</th>\n      <th>D</th>\n      <th>E</th>\n    </tr>\n  </thead>\n  <tbody>\n    <tr>\n      <th>2021-01-01</th>\n      <td>0.000000</td>\n      <td>0.000000</td>\n      <td>-2.566273</td>\n      <td>5</td>\n      <td>1.0</td>\n    </tr>\n    <tr>\n      <th>2021-01-02</th>\n      <td>-0.503382</td>\n      <td>-0.069344</td>\n      <td>-2.892796</td>\n      <td>10</td>\n      <td>2.0</td>\n    </tr>\n    <tr>\n      <th>2021-01-03</th>\n      <td>-1.430027</td>\n      <td>0.252866</td>\n      <td>-1.553888</td>\n      <td>15</td>\n      <td>NaN</td>\n    </tr>\n    <tr>\n      <th>2021-01-04</th>\n      <td>-2.239285</td>\n      <td>0.579429</td>\n      <td>-2.760166</td>\n      <td>20</td>\n      <td>NaN</td>\n    </tr>\n  </tbody>\n</table>\n</div>"
     },
     "metadata": {},
     "execution_count": 93
    }
   ],
   "source": [
    "# https://m.blog.naver.com/PostView.nhn?blogId=allenpython&logNo=220401132533&proxyReferer=https%3A%2F%2Fwww.google.com%2F\n",
    "\n",
    "# cumsum은 배열에서 주어진 축에 따라 누적되는 원소들의 누적 합을 계산하는 함수\n",
    "# a = np.array([[1, 2, 3], [4, 5, 6]]) 일 경우, np.cumsum(a)를 하게 되면\n",
    "# 1 3 6 10 15 21 처럼 더한 값이 누적되어 출력된다.\n",
    "\n",
    "df1.apply(np.cumsum)"
   ]
  },
  {
   "cell_type": "code",
   "execution_count": 96,
   "metadata": {},
   "outputs": [
    {
     "output_type": "execute_result",
     "data": {
      "text/plain": [
       "A    0.926644\n",
       "B    0.395906\n",
       "C    3.905181\n",
       "D    0.000000\n",
       "E    0.000000\n",
       "dtype: float64"
      ]
     },
     "metadata": {},
     "execution_count": 96
    }
   ],
   "source": [
    "# https://sacko.tistory.com/52\n",
    "# lambda 로 익명함수 x를 만들어 계산되었다.\n",
    "df1.apply(lambda x: x.max() - x.min())"
   ]
  },
  {
   "cell_type": "code",
   "execution_count": 97,
   "metadata": {},
   "outputs": [
    {
     "output_type": "execute_result",
     "data": {
      "text/plain": [
       "0    0\n",
       "1    6\n",
       "2    0\n",
       "3    2\n",
       "4    6\n",
       "5    6\n",
       "6    5\n",
       "7    4\n",
       "8    5\n",
       "9    1\n",
       "dtype: int64"
      ]
     },
     "metadata": {},
     "execution_count": 97
    }
   ],
   "source": [
    "# Histogramming (히스토그래밍)\n",
    "# np.random.randInt 균일 분포의 정수 난수 1개 생성\n",
    "# np.random.rand    0부터 1사이의 균일분포에서 난수 행렬 배열 생성\n",
    "# np.random.randn   가우시안 표준 정규 분포에서 난수 행렬 배열 생성\n",
    "\n",
    "s = pd.Series(np.random.randint(0, 7, size=10))\n",
    "s"
   ]
  },
  {
   "cell_type": "code",
   "execution_count": 98,
   "metadata": {},
   "outputs": [
    {
     "output_type": "execute_result",
     "data": {
      "text/plain": [
       "6    3\n",
       "5    2\n",
       "0    2\n",
       "4    1\n",
       "2    1\n",
       "1    1\n",
       "dtype: int64"
      ]
     },
     "metadata": {},
     "execution_count": 98
    }
   ],
   "source": [
    "# value_counts() -> 빈도 수 계산\n",
    "s.value_counts()"
   ]
  },
  {
   "cell_type": "code",
   "execution_count": 99,
   "metadata": {},
   "outputs": [
    {
     "output_type": "execute_result",
     "data": {
      "text/plain": [
       "0       a\n",
       "1       b\n",
       "2       c\n",
       "3    aaba\n",
       "4    baca\n",
       "5     NaN\n",
       "6    caba\n",
       "7     dog\n",
       "8     cat\n",
       "dtype: object"
      ]
     },
     "metadata": {},
     "execution_count": 99
    }
   ],
   "source": [
    "s = pd.Series(['A', 'B', 'C', 'Aaba', 'Baca', np.nan, 'CABA', 'dog', 'cat'])\n",
    "s.str.lower()"
   ]
  },
  {
   "cell_type": "code",
   "execution_count": 101,
   "metadata": {},
   "outputs": [
    {
     "output_type": "execute_result",
     "data": {
      "text/plain": [
       "          0         1         2         3\n",
       "0  1.594228 -0.567756 -0.233275 -0.691846\n",
       "1  0.794628 -0.264233  1.034103  1.215507\n",
       "2 -0.249236  0.897544  0.495048  1.410424\n",
       "3  0.996473  0.822834  1.463317  0.383410\n",
       "4 -0.189322 -0.710448 -0.462119 -0.225109\n",
       "5  0.055322  0.394612  1.304284 -0.617587\n",
       "6 -1.106075  0.653726 -1.761748  2.244211\n",
       "7 -1.348656 -0.807591  0.027689  0.608488\n",
       "8  0.791371 -0.505865  0.851559  1.396177\n",
       "9  0.548955 -0.267065 -0.519139  0.410796"
      ],
      "text/html": "<div>\n<style scoped>\n    .dataframe tbody tr th:only-of-type {\n        vertical-align: middle;\n    }\n\n    .dataframe tbody tr th {\n        vertical-align: top;\n    }\n\n    .dataframe thead th {\n        text-align: right;\n    }\n</style>\n<table border=\"1\" class=\"dataframe\">\n  <thead>\n    <tr style=\"text-align: right;\">\n      <th></th>\n      <th>0</th>\n      <th>1</th>\n      <th>2</th>\n      <th>3</th>\n    </tr>\n  </thead>\n  <tbody>\n    <tr>\n      <th>0</th>\n      <td>1.594228</td>\n      <td>-0.567756</td>\n      <td>-0.233275</td>\n      <td>-0.691846</td>\n    </tr>\n    <tr>\n      <th>1</th>\n      <td>0.794628</td>\n      <td>-0.264233</td>\n      <td>1.034103</td>\n      <td>1.215507</td>\n    </tr>\n    <tr>\n      <th>2</th>\n      <td>-0.249236</td>\n      <td>0.897544</td>\n      <td>0.495048</td>\n      <td>1.410424</td>\n    </tr>\n    <tr>\n      <th>3</th>\n      <td>0.996473</td>\n      <td>0.822834</td>\n      <td>1.463317</td>\n      <td>0.383410</td>\n    </tr>\n    <tr>\n      <th>4</th>\n      <td>-0.189322</td>\n      <td>-0.710448</td>\n      <td>-0.462119</td>\n      <td>-0.225109</td>\n    </tr>\n    <tr>\n      <th>5</th>\n      <td>0.055322</td>\n      <td>0.394612</td>\n      <td>1.304284</td>\n      <td>-0.617587</td>\n    </tr>\n    <tr>\n      <th>6</th>\n      <td>-1.106075</td>\n      <td>0.653726</td>\n      <td>-1.761748</td>\n      <td>2.244211</td>\n    </tr>\n    <tr>\n      <th>7</th>\n      <td>-1.348656</td>\n      <td>-0.807591</td>\n      <td>0.027689</td>\n      <td>0.608488</td>\n    </tr>\n    <tr>\n      <th>8</th>\n      <td>0.791371</td>\n      <td>-0.505865</td>\n      <td>0.851559</td>\n      <td>1.396177</td>\n    </tr>\n    <tr>\n      <th>9</th>\n      <td>0.548955</td>\n      <td>-0.267065</td>\n      <td>-0.519139</td>\n      <td>0.410796</td>\n    </tr>\n  </tbody>\n</table>\n</div>"
     },
     "metadata": {},
     "execution_count": 101
    }
   ],
   "source": [
    "# Merge (병합)\n",
    "df4 = pd.DataFrame(np.random.randn(10, 4))\n",
    "df4"
   ]
  },
  {
   "cell_type": "code",
   "execution_count": 102,
   "metadata": {},
   "outputs": [
    {
     "output_type": "execute_result",
     "data": {
      "text/plain": [
       "          0         1         2         3\n",
       "0  1.594228 -0.567756 -0.233275 -0.691846\n",
       "1  0.794628 -0.264233  1.034103  1.215507\n",
       "2 -0.249236  0.897544  0.495048  1.410424\n",
       "3  0.996473  0.822834  1.463317  0.383410\n",
       "4 -0.189322 -0.710448 -0.462119 -0.225109\n",
       "5  0.055322  0.394612  1.304284 -0.617587\n",
       "6 -1.106075  0.653726 -1.761748  2.244211\n",
       "7 -1.348656 -0.807591  0.027689  0.608488\n",
       "8  0.791371 -0.505865  0.851559  1.396177\n",
       "9  0.548955 -0.267065 -0.519139  0.410796"
      ],
      "text/html": "<div>\n<style scoped>\n    .dataframe tbody tr th:only-of-type {\n        vertical-align: middle;\n    }\n\n    .dataframe tbody tr th {\n        vertical-align: top;\n    }\n\n    .dataframe thead th {\n        text-align: right;\n    }\n</style>\n<table border=\"1\" class=\"dataframe\">\n  <thead>\n    <tr style=\"text-align: right;\">\n      <th></th>\n      <th>0</th>\n      <th>1</th>\n      <th>2</th>\n      <th>3</th>\n    </tr>\n  </thead>\n  <tbody>\n    <tr>\n      <th>0</th>\n      <td>1.594228</td>\n      <td>-0.567756</td>\n      <td>-0.233275</td>\n      <td>-0.691846</td>\n    </tr>\n    <tr>\n      <th>1</th>\n      <td>0.794628</td>\n      <td>-0.264233</td>\n      <td>1.034103</td>\n      <td>1.215507</td>\n    </tr>\n    <tr>\n      <th>2</th>\n      <td>-0.249236</td>\n      <td>0.897544</td>\n      <td>0.495048</td>\n      <td>1.410424</td>\n    </tr>\n    <tr>\n      <th>3</th>\n      <td>0.996473</td>\n      <td>0.822834</td>\n      <td>1.463317</td>\n      <td>0.383410</td>\n    </tr>\n    <tr>\n      <th>4</th>\n      <td>-0.189322</td>\n      <td>-0.710448</td>\n      <td>-0.462119</td>\n      <td>-0.225109</td>\n    </tr>\n    <tr>\n      <th>5</th>\n      <td>0.055322</td>\n      <td>0.394612</td>\n      <td>1.304284</td>\n      <td>-0.617587</td>\n    </tr>\n    <tr>\n      <th>6</th>\n      <td>-1.106075</td>\n      <td>0.653726</td>\n      <td>-1.761748</td>\n      <td>2.244211</td>\n    </tr>\n    <tr>\n      <th>7</th>\n      <td>-1.348656</td>\n      <td>-0.807591</td>\n      <td>0.027689</td>\n      <td>0.608488</td>\n    </tr>\n    <tr>\n      <th>8</th>\n      <td>0.791371</td>\n      <td>-0.505865</td>\n      <td>0.851559</td>\n      <td>1.396177</td>\n    </tr>\n    <tr>\n      <th>9</th>\n      <td>0.548955</td>\n      <td>-0.267065</td>\n      <td>-0.519139</td>\n      <td>0.410796</td>\n    </tr>\n  </tbody>\n</table>\n</div>"
     },
     "metadata": {},
     "execution_count": 102
    }
   ],
   "source": [
    "# concat()으로 pandas 객체를 연결\n",
    "\n",
    "pieces = [df4[:3], df4[3:7], df4[7:]]\n",
    "pd.concat(pieces)"
   ]
  },
  {
   "cell_type": "code",
   "execution_count": 106,
   "metadata": {},
   "outputs": [
    {
     "output_type": "execute_result",
     "data": {
      "text/plain": [
       "   key  lval\n",
       "0  foo     1\n",
       "1  bar     2"
      ],
      "text/html": "<div>\n<style scoped>\n    .dataframe tbody tr th:only-of-type {\n        vertical-align: middle;\n    }\n\n    .dataframe tbody tr th {\n        vertical-align: top;\n    }\n\n    .dataframe thead th {\n        text-align: right;\n    }\n</style>\n<table border=\"1\" class=\"dataframe\">\n  <thead>\n    <tr style=\"text-align: right;\">\n      <th></th>\n      <th>key</th>\n      <th>lval</th>\n    </tr>\n  </thead>\n  <tbody>\n    <tr>\n      <th>0</th>\n      <td>foo</td>\n      <td>1</td>\n    </tr>\n    <tr>\n      <th>1</th>\n      <td>bar</td>\n      <td>2</td>\n    </tr>\n  </tbody>\n</table>\n</div>"
     },
     "metadata": {},
     "execution_count": 106
    }
   ],
   "source": [
    "# Join (결합)\n",
    "# 주목해야할 부분은 SQL 방식으로 결합한다는 것이다. \n",
    "\n",
    "left = pd.DataFrame({'key': ['foo', 'bar'], 'lval': [1, 2]})\n",
    "right = pd.DataFrame({'key': ['foo', 'bar'], 'rval': [4, 5]})\n",
    "left"
   ]
  },
  {
   "cell_type": "code",
   "execution_count": 107,
   "metadata": {},
   "outputs": [
    {
     "output_type": "execute_result",
     "data": {
      "text/plain": [
       "   key  rval\n",
       "0  foo     4\n",
       "1  bar     5"
      ],
      "text/html": "<div>\n<style scoped>\n    .dataframe tbody tr th:only-of-type {\n        vertical-align: middle;\n    }\n\n    .dataframe tbody tr th {\n        vertical-align: top;\n    }\n\n    .dataframe thead th {\n        text-align: right;\n    }\n</style>\n<table border=\"1\" class=\"dataframe\">\n  <thead>\n    <tr style=\"text-align: right;\">\n      <th></th>\n      <th>key</th>\n      <th>rval</th>\n    </tr>\n  </thead>\n  <tbody>\n    <tr>\n      <th>0</th>\n      <td>foo</td>\n      <td>4</td>\n    </tr>\n    <tr>\n      <th>1</th>\n      <td>bar</td>\n      <td>5</td>\n    </tr>\n  </tbody>\n</table>\n</div>"
     },
     "metadata": {},
     "execution_count": 107
    }
   ],
   "source": [
    "right"
   ]
  },
  {
   "cell_type": "code",
   "execution_count": 108,
   "metadata": {},
   "outputs": [
    {
     "output_type": "execute_result",
     "data": {
      "text/plain": [
       "   key  lval  rval\n",
       "0  foo     1     4\n",
       "1  bar     2     5"
      ],
      "text/html": "<div>\n<style scoped>\n    .dataframe tbody tr th:only-of-type {\n        vertical-align: middle;\n    }\n\n    .dataframe tbody tr th {\n        vertical-align: top;\n    }\n\n    .dataframe thead th {\n        text-align: right;\n    }\n</style>\n<table border=\"1\" class=\"dataframe\">\n  <thead>\n    <tr style=\"text-align: right;\">\n      <th></th>\n      <th>key</th>\n      <th>lval</th>\n      <th>rval</th>\n    </tr>\n  </thead>\n  <tbody>\n    <tr>\n      <th>0</th>\n      <td>foo</td>\n      <td>1</td>\n      <td>4</td>\n    </tr>\n    <tr>\n      <th>1</th>\n      <td>bar</td>\n      <td>2</td>\n      <td>5</td>\n    </tr>\n  </tbody>\n</table>\n</div>"
     },
     "metadata": {},
     "execution_count": 108
    }
   ],
   "source": [
    "# 병합\n",
    "\n",
    "pd.merge(left, right, on= 'key')"
   ]
  },
  {
   "cell_type": "code",
   "execution_count": 110,
   "metadata": {},
   "outputs": [
    {
     "output_type": "execute_result",
     "data": {
      "text/plain": [
       "          A         B         C         D\n",
       "0 -0.392019  1.667203  0.376611 -0.789239\n",
       "1  0.525399  0.314369  1.380849 -0.599564\n",
       "2  0.539091  0.805776  1.050621  3.210388\n",
       "3 -0.533862 -0.677642 -0.755451 -1.635982\n",
       "4 -1.543721  0.558632  0.926358 -1.297006\n",
       "5  0.249124 -0.351860 -1.351736  0.546610\n",
       "6  1.016791  1.082724 -1.042776 -1.071976\n",
       "7  0.867282 -0.120478 -0.438404 -0.819020"
      ],
      "text/html": "<div>\n<style scoped>\n    .dataframe tbody tr th:only-of-type {\n        vertical-align: middle;\n    }\n\n    .dataframe tbody tr th {\n        vertical-align: top;\n    }\n\n    .dataframe thead th {\n        text-align: right;\n    }\n</style>\n<table border=\"1\" class=\"dataframe\">\n  <thead>\n    <tr style=\"text-align: right;\">\n      <th></th>\n      <th>A</th>\n      <th>B</th>\n      <th>C</th>\n      <th>D</th>\n    </tr>\n  </thead>\n  <tbody>\n    <tr>\n      <th>0</th>\n      <td>-0.392019</td>\n      <td>1.667203</td>\n      <td>0.376611</td>\n      <td>-0.789239</td>\n    </tr>\n    <tr>\n      <th>1</th>\n      <td>0.525399</td>\n      <td>0.314369</td>\n      <td>1.380849</td>\n      <td>-0.599564</td>\n    </tr>\n    <tr>\n      <th>2</th>\n      <td>0.539091</td>\n      <td>0.805776</td>\n      <td>1.050621</td>\n      <td>3.210388</td>\n    </tr>\n    <tr>\n      <th>3</th>\n      <td>-0.533862</td>\n      <td>-0.677642</td>\n      <td>-0.755451</td>\n      <td>-1.635982</td>\n    </tr>\n    <tr>\n      <th>4</th>\n      <td>-1.543721</td>\n      <td>0.558632</td>\n      <td>0.926358</td>\n      <td>-1.297006</td>\n    </tr>\n    <tr>\n      <th>5</th>\n      <td>0.249124</td>\n      <td>-0.351860</td>\n      <td>-1.351736</td>\n      <td>0.546610</td>\n    </tr>\n    <tr>\n      <th>6</th>\n      <td>1.016791</td>\n      <td>1.082724</td>\n      <td>-1.042776</td>\n      <td>-1.071976</td>\n    </tr>\n    <tr>\n      <th>7</th>\n      <td>0.867282</td>\n      <td>-0.120478</td>\n      <td>-0.438404</td>\n      <td>-0.819020</td>\n    </tr>\n  </tbody>\n</table>\n</div>"
     },
     "metadata": {},
     "execution_count": 110
    }
   ],
   "source": [
    "# Append (추가)\n",
    "# 데이터프레임에 행을 추가\n",
    "\n",
    "df4 = pd.DataFrame(np.random.randn(8, 4), columns=['A', 'B', 'C', 'D'])\n",
    "df4\n"
   ]
  },
  {
   "cell_type": "code",
   "execution_count": 112,
   "metadata": {},
   "outputs": [
    {
     "output_type": "execute_result",
     "data": {
      "text/plain": [
       "A   -0.533862\n",
       "B   -0.677642\n",
       "C   -0.755451\n",
       "D   -1.635982\n",
       "Name: 3, dtype: float64"
      ]
     },
     "metadata": {},
     "execution_count": 112
    }
   ],
   "source": [
    "s = df4.iloc[3]\n",
    "s"
   ]
  },
  {
   "cell_type": "code",
   "execution_count": 113,
   "metadata": {},
   "outputs": [
    {
     "output_type": "execute_result",
     "data": {
      "text/plain": [
       "          A         B         C         D\n",
       "0 -0.392019  1.667203  0.376611 -0.789239\n",
       "1  0.525399  0.314369  1.380849 -0.599564\n",
       "2  0.539091  0.805776  1.050621  3.210388\n",
       "3 -0.533862 -0.677642 -0.755451 -1.635982\n",
       "4 -1.543721  0.558632  0.926358 -1.297006\n",
       "5  0.249124 -0.351860 -1.351736  0.546610\n",
       "6  1.016791  1.082724 -1.042776 -1.071976\n",
       "7  0.867282 -0.120478 -0.438404 -0.819020\n",
       "8 -0.533862 -0.677642 -0.755451 -1.635982"
      ],
      "text/html": "<div>\n<style scoped>\n    .dataframe tbody tr th:only-of-type {\n        vertical-align: middle;\n    }\n\n    .dataframe tbody tr th {\n        vertical-align: top;\n    }\n\n    .dataframe thead th {\n        text-align: right;\n    }\n</style>\n<table border=\"1\" class=\"dataframe\">\n  <thead>\n    <tr style=\"text-align: right;\">\n      <th></th>\n      <th>A</th>\n      <th>B</th>\n      <th>C</th>\n      <th>D</th>\n    </tr>\n  </thead>\n  <tbody>\n    <tr>\n      <th>0</th>\n      <td>-0.392019</td>\n      <td>1.667203</td>\n      <td>0.376611</td>\n      <td>-0.789239</td>\n    </tr>\n    <tr>\n      <th>1</th>\n      <td>0.525399</td>\n      <td>0.314369</td>\n      <td>1.380849</td>\n      <td>-0.599564</td>\n    </tr>\n    <tr>\n      <th>2</th>\n      <td>0.539091</td>\n      <td>0.805776</td>\n      <td>1.050621</td>\n      <td>3.210388</td>\n    </tr>\n    <tr>\n      <th>3</th>\n      <td>-0.533862</td>\n      <td>-0.677642</td>\n      <td>-0.755451</td>\n      <td>-1.635982</td>\n    </tr>\n    <tr>\n      <th>4</th>\n      <td>-1.543721</td>\n      <td>0.558632</td>\n      <td>0.926358</td>\n      <td>-1.297006</td>\n    </tr>\n    <tr>\n      <th>5</th>\n      <td>0.249124</td>\n      <td>-0.351860</td>\n      <td>-1.351736</td>\n      <td>0.546610</td>\n    </tr>\n    <tr>\n      <th>6</th>\n      <td>1.016791</td>\n      <td>1.082724</td>\n      <td>-1.042776</td>\n      <td>-1.071976</td>\n    </tr>\n    <tr>\n      <th>7</th>\n      <td>0.867282</td>\n      <td>-0.120478</td>\n      <td>-0.438404</td>\n      <td>-0.819020</td>\n    </tr>\n    <tr>\n      <th>8</th>\n      <td>-0.533862</td>\n      <td>-0.677642</td>\n      <td>-0.755451</td>\n      <td>-1.635982</td>\n    </tr>\n  </tbody>\n</table>\n</div>"
     },
     "metadata": {},
     "execution_count": 113
    }
   ],
   "source": [
    "df4.append(s, ignore_index=True)"
   ]
  },
  {
   "cell_type": "code",
   "execution_count": 114,
   "metadata": {},
   "outputs": [
    {
     "output_type": "execute_result",
     "data": {
      "text/plain": [
       "     A      B         C         D\n",
       "0  foo    one  0.798312  0.374901\n",
       "1  bar    one  0.563092 -1.034419\n",
       "2  foo    two  1.648219 -0.228789\n",
       "3  bar  three  1.449834  0.554625\n",
       "4  foo    two -0.413664 -0.290243\n",
       "5  bar    two -0.235334  0.191682\n",
       "6  foo    one -0.623011 -0.429641\n",
       "7  foo  three  1.222500 -1.261019"
      ],
      "text/html": "<div>\n<style scoped>\n    .dataframe tbody tr th:only-of-type {\n        vertical-align: middle;\n    }\n\n    .dataframe tbody tr th {\n        vertical-align: top;\n    }\n\n    .dataframe thead th {\n        text-align: right;\n    }\n</style>\n<table border=\"1\" class=\"dataframe\">\n  <thead>\n    <tr style=\"text-align: right;\">\n      <th></th>\n      <th>A</th>\n      <th>B</th>\n      <th>C</th>\n      <th>D</th>\n    </tr>\n  </thead>\n  <tbody>\n    <tr>\n      <th>0</th>\n      <td>foo</td>\n      <td>one</td>\n      <td>0.798312</td>\n      <td>0.374901</td>\n    </tr>\n    <tr>\n      <th>1</th>\n      <td>bar</td>\n      <td>one</td>\n      <td>0.563092</td>\n      <td>-1.034419</td>\n    </tr>\n    <tr>\n      <th>2</th>\n      <td>foo</td>\n      <td>two</td>\n      <td>1.648219</td>\n      <td>-0.228789</td>\n    </tr>\n    <tr>\n      <th>3</th>\n      <td>bar</td>\n      <td>three</td>\n      <td>1.449834</td>\n      <td>0.554625</td>\n    </tr>\n    <tr>\n      <th>4</th>\n      <td>foo</td>\n      <td>two</td>\n      <td>-0.413664</td>\n      <td>-0.290243</td>\n    </tr>\n    <tr>\n      <th>5</th>\n      <td>bar</td>\n      <td>two</td>\n      <td>-0.235334</td>\n      <td>0.191682</td>\n    </tr>\n    <tr>\n      <th>6</th>\n      <td>foo</td>\n      <td>one</td>\n      <td>-0.623011</td>\n      <td>-0.429641</td>\n    </tr>\n    <tr>\n      <th>7</th>\n      <td>foo</td>\n      <td>three</td>\n      <td>1.222500</td>\n      <td>-1.261019</td>\n    </tr>\n  </tbody>\n</table>\n</div>"
     },
     "metadata": {},
     "execution_count": 114
    }
   ],
   "source": [
    "# Grouping (그룹화)\n",
    "\n",
    "# 몇몇 기준에 따라 여러 그룹으로 데이터를 분할 (splitting)\n",
    "# 각 그룹에 독립적으로 함수를 적용 (applying)\n",
    "# 결과물들을 하나의 데이터 구조로 결합 (combining)\n",
    "\n",
    "df4 = pd.DataFrame(\n",
    "    {\n",
    "        'A' : ['foo', 'bar', 'foo', 'bar', 'foo', 'bar', 'foo', 'foo'],\n",
    "        'B' : ['one', 'one', 'two', 'three', 'two', 'two', 'one', 'three'],\n",
    "        'C' : np.random.randn(8),\n",
    "        'D' : np.random.randn(8)\n",
    "    }\n",
    ")\n",
    "df4"
   ]
  },
  {
   "cell_type": "code",
   "execution_count": 116,
   "metadata": {},
   "outputs": [
    {
     "output_type": "execute_result",
     "data": {
      "text/plain": [
       "            C         D\n",
       "A                      \n",
       "bar  1.777592 -0.288112\n",
       "foo  2.632357 -1.834790"
      ],
      "text/html": "<div>\n<style scoped>\n    .dataframe tbody tr th:only-of-type {\n        vertical-align: middle;\n    }\n\n    .dataframe tbody tr th {\n        vertical-align: top;\n    }\n\n    .dataframe thead th {\n        text-align: right;\n    }\n</style>\n<table border=\"1\" class=\"dataframe\">\n  <thead>\n    <tr style=\"text-align: right;\">\n      <th></th>\n      <th>C</th>\n      <th>D</th>\n    </tr>\n    <tr>\n      <th>A</th>\n      <th></th>\n      <th></th>\n    </tr>\n  </thead>\n  <tbody>\n    <tr>\n      <th>bar</th>\n      <td>1.777592</td>\n      <td>-0.288112</td>\n    </tr>\n    <tr>\n      <th>foo</th>\n      <td>2.632357</td>\n      <td>-1.834790</td>\n    </tr>\n  </tbody>\n</table>\n</div>"
     },
     "metadata": {},
     "execution_count": 116
    }
   ],
   "source": [
    "# A 컬럼값을 groupby하여 합계 구하기\n",
    "\n",
    "df4.groupby('A').sum()"
   ]
  },
  {
   "cell_type": "code",
   "execution_count": 118,
   "metadata": {},
   "outputs": [
    {
     "output_type": "execute_result",
     "data": {
      "text/plain": [
       "                  C         D\n",
       "A   B                        \n",
       "bar one    0.563092 -1.034419\n",
       "    three  1.449834  0.554625\n",
       "    two   -0.235334  0.191682\n",
       "foo one    0.087651 -0.027370\n",
       "    three  1.222500 -1.261019\n",
       "    two    0.617278 -0.259516"
      ],
      "text/html": "<div>\n<style scoped>\n    .dataframe tbody tr th:only-of-type {\n        vertical-align: middle;\n    }\n\n    .dataframe tbody tr th {\n        vertical-align: top;\n    }\n\n    .dataframe thead th {\n        text-align: right;\n    }\n</style>\n<table border=\"1\" class=\"dataframe\">\n  <thead>\n    <tr style=\"text-align: right;\">\n      <th></th>\n      <th></th>\n      <th>C</th>\n      <th>D</th>\n    </tr>\n    <tr>\n      <th>A</th>\n      <th>B</th>\n      <th></th>\n      <th></th>\n    </tr>\n  </thead>\n  <tbody>\n    <tr>\n      <th rowspan=\"3\" valign=\"top\">bar</th>\n      <th>one</th>\n      <td>0.563092</td>\n      <td>-1.034419</td>\n    </tr>\n    <tr>\n      <th>three</th>\n      <td>1.449834</td>\n      <td>0.554625</td>\n    </tr>\n    <tr>\n      <th>two</th>\n      <td>-0.235334</td>\n      <td>0.191682</td>\n    </tr>\n    <tr>\n      <th rowspan=\"3\" valign=\"top\">foo</th>\n      <th>one</th>\n      <td>0.087651</td>\n      <td>-0.027370</td>\n    </tr>\n    <tr>\n      <th>three</th>\n      <td>1.222500</td>\n      <td>-1.261019</td>\n    </tr>\n    <tr>\n      <th>two</th>\n      <td>0.617278</td>\n      <td>-0.259516</td>\n    </tr>\n  </tbody>\n</table>\n</div>"
     },
     "metadata": {},
     "execution_count": 118
    }
   ],
   "source": [
    "# A 컬럼값을 Groupby하여 B의 컬럼값 평균값 구하기 \n",
    "\n",
    "df4.groupby(['A','B']).mean()"
   ]
  },
  {
   "cell_type": "code",
   "execution_count": 120,
   "metadata": {},
   "outputs": [
    {
     "output_type": "execute_result",
     "data": {
      "text/plain": [
       "            C         D\n",
       "A                      \n",
       "bar  0.592531 -0.096037\n",
       "foo  0.526471 -0.366958"
      ],
      "text/html": "<div>\n<style scoped>\n    .dataframe tbody tr th:only-of-type {\n        vertical-align: middle;\n    }\n\n    .dataframe tbody tr th {\n        vertical-align: top;\n    }\n\n    .dataframe thead th {\n        text-align: right;\n    }\n</style>\n<table border=\"1\" class=\"dataframe\">\n  <thead>\n    <tr style=\"text-align: right;\">\n      <th></th>\n      <th>C</th>\n      <th>D</th>\n    </tr>\n    <tr>\n      <th>A</th>\n      <th></th>\n      <th></th>\n    </tr>\n  </thead>\n  <tbody>\n    <tr>\n      <th>bar</th>\n      <td>0.592531</td>\n      <td>-0.096037</td>\n    </tr>\n    <tr>\n      <th>foo</th>\n      <td>0.526471</td>\n      <td>-0.366958</td>\n    </tr>\n  </tbody>\n</table>\n</div>"
     },
     "metadata": {},
     "execution_count": 120
    }
   ],
   "source": [
    "# pivot_table로 평균값 구하기\n",
    "\n",
    "pd.pivot_table(df4, index=\"A\")"
   ]
  },
  {
   "cell_type": "code",
   "execution_count": 121,
   "metadata": {},
   "outputs": [
    {
     "output_type": "execute_result",
     "data": {
      "text/plain": [
       "                     A         B\n",
       "first second                    \n",
       "bar   one    -1.425195 -0.859343\n",
       "      two     0.409136  0.338427\n",
       "baz   one     1.584450  1.268736\n",
       "      two     1.219449  1.295447"
      ],
      "text/html": "<div>\n<style scoped>\n    .dataframe tbody tr th:only-of-type {\n        vertical-align: middle;\n    }\n\n    .dataframe tbody tr th {\n        vertical-align: top;\n    }\n\n    .dataframe thead th {\n        text-align: right;\n    }\n</style>\n<table border=\"1\" class=\"dataframe\">\n  <thead>\n    <tr style=\"text-align: right;\">\n      <th></th>\n      <th></th>\n      <th>A</th>\n      <th>B</th>\n    </tr>\n    <tr>\n      <th>first</th>\n      <th>second</th>\n      <th></th>\n      <th></th>\n    </tr>\n  </thead>\n  <tbody>\n    <tr>\n      <th rowspan=\"2\" valign=\"top\">bar</th>\n      <th>one</th>\n      <td>-1.425195</td>\n      <td>-0.859343</td>\n    </tr>\n    <tr>\n      <th>two</th>\n      <td>0.409136</td>\n      <td>0.338427</td>\n    </tr>\n    <tr>\n      <th rowspan=\"2\" valign=\"top\">baz</th>\n      <th>one</th>\n      <td>1.584450</td>\n      <td>1.268736</td>\n    </tr>\n    <tr>\n      <th>two</th>\n      <td>1.219449</td>\n      <td>1.295447</td>\n    </tr>\n  </tbody>\n</table>\n</div>"
     },
     "metadata": {},
     "execution_count": 121
    }
   ],
   "source": [
    "# Stack(스택)\n",
    "\n",
    "tuples = list(zip(*[['bar', 'bar', 'baz', 'baz',\n",
    "                     'foo', 'foo', 'qux', 'qux'],\n",
    "                    ['one', 'two', 'one', 'two',\n",
    "                     'one', 'two', 'one', 'two']]))\n",
    "index = pd.MultiIndex.from_tuples(tuples, names=['first', 'second'])\n",
    "df4 = pd.DataFrame(np.random.randn(8, 2), index=index, columns=['A', 'B'])\n",
    "df5  =  df4[:4]\n",
    "df5"
   ]
  },
  {
   "cell_type": "code",
   "execution_count": 122,
   "metadata": {},
   "outputs": [
    {
     "output_type": "execute_result",
     "data": {
      "text/plain": [
       "first  second   \n",
       "bar    one     A   -1.425195\n",
       "               B   -0.859343\n",
       "       two     A    0.409136\n",
       "               B    0.338427\n",
       "baz    one     A    1.584450\n",
       "               B    1.268736\n",
       "       two     A    1.219449\n",
       "               B    1.295447\n",
       "dtype: float64"
      ]
     },
     "metadata": {},
     "execution_count": 122
    }
   ],
   "source": [
    "stacked = df5.stack()\n",
    "stacked"
   ]
  },
  {
   "cell_type": "code",
   "execution_count": 123,
   "metadata": {},
   "outputs": [
    {
     "output_type": "execute_result",
     "data": {
      "text/plain": [
       "                     A         B\n",
       "first second                    \n",
       "bar   one    -1.425195 -0.859343\n",
       "      two     0.409136  0.338427\n",
       "baz   one     1.584450  1.268736\n",
       "      two     1.219449  1.295447"
      ],
      "text/html": "<div>\n<style scoped>\n    .dataframe tbody tr th:only-of-type {\n        vertical-align: middle;\n    }\n\n    .dataframe tbody tr th {\n        vertical-align: top;\n    }\n\n    .dataframe thead th {\n        text-align: right;\n    }\n</style>\n<table border=\"1\" class=\"dataframe\">\n  <thead>\n    <tr style=\"text-align: right;\">\n      <th></th>\n      <th></th>\n      <th>A</th>\n      <th>B</th>\n    </tr>\n    <tr>\n      <th>first</th>\n      <th>second</th>\n      <th></th>\n      <th></th>\n    </tr>\n  </thead>\n  <tbody>\n    <tr>\n      <th rowspan=\"2\" valign=\"top\">bar</th>\n      <th>one</th>\n      <td>-1.425195</td>\n      <td>-0.859343</td>\n    </tr>\n    <tr>\n      <th>two</th>\n      <td>0.409136</td>\n      <td>0.338427</td>\n    </tr>\n    <tr>\n      <th rowspan=\"2\" valign=\"top\">baz</th>\n      <th>one</th>\n      <td>1.584450</td>\n      <td>1.268736</td>\n    </tr>\n    <tr>\n      <th>two</th>\n      <td>1.219449</td>\n      <td>1.295447</td>\n    </tr>\n  </tbody>\n</table>\n</div>"
     },
     "metadata": {},
     "execution_count": 123
    }
   ],
   "source": [
    "# 역 연산\n",
    "\n",
    "stacked.unstack() "
   ]
  },
  {
   "cell_type": "code",
   "execution_count": 124,
   "metadata": {},
   "outputs": [
    {
     "output_type": "execute_result",
     "data": {
      "text/plain": [
       "second        one       two\n",
       "first                      \n",
       "bar   A -1.425195  0.409136\n",
       "      B -0.859343  0.338427\n",
       "baz   A  1.584450  1.219449\n",
       "      B  1.268736  1.295447"
      ],
      "text/html": "<div>\n<style scoped>\n    .dataframe tbody tr th:only-of-type {\n        vertical-align: middle;\n    }\n\n    .dataframe tbody tr th {\n        vertical-align: top;\n    }\n\n    .dataframe thead th {\n        text-align: right;\n    }\n</style>\n<table border=\"1\" class=\"dataframe\">\n  <thead>\n    <tr style=\"text-align: right;\">\n      <th></th>\n      <th>second</th>\n      <th>one</th>\n      <th>two</th>\n    </tr>\n    <tr>\n      <th>first</th>\n      <th></th>\n      <th></th>\n      <th></th>\n    </tr>\n  </thead>\n  <tbody>\n    <tr>\n      <th rowspan=\"2\" valign=\"top\">bar</th>\n      <th>A</th>\n      <td>-1.425195</td>\n      <td>0.409136</td>\n    </tr>\n    <tr>\n      <th>B</th>\n      <td>-0.859343</td>\n      <td>0.338427</td>\n    </tr>\n    <tr>\n      <th rowspan=\"2\" valign=\"top\">baz</th>\n      <th>A</th>\n      <td>1.584450</td>\n      <td>1.219449</td>\n    </tr>\n    <tr>\n      <th>B</th>\n      <td>1.268736</td>\n      <td>1.295447</td>\n    </tr>\n  </tbody>\n</table>\n</div>"
     },
     "metadata": {},
     "execution_count": 124
    }
   ],
   "source": [
    "stacked.unstack(1)"
   ]
  },
  {
   "cell_type": "code",
   "execution_count": 125,
   "metadata": {},
   "outputs": [
    {
     "output_type": "execute_result",
     "data": {
      "text/plain": [
       "first          bar       baz\n",
       "second                      \n",
       "one    A -1.425195  1.584450\n",
       "       B -0.859343  1.268736\n",
       "two    A  0.409136  1.219449\n",
       "       B  0.338427  1.295447"
      ],
      "text/html": "<div>\n<style scoped>\n    .dataframe tbody tr th:only-of-type {\n        vertical-align: middle;\n    }\n\n    .dataframe tbody tr th {\n        vertical-align: top;\n    }\n\n    .dataframe thead th {\n        text-align: right;\n    }\n</style>\n<table border=\"1\" class=\"dataframe\">\n  <thead>\n    <tr style=\"text-align: right;\">\n      <th></th>\n      <th>first</th>\n      <th>bar</th>\n      <th>baz</th>\n    </tr>\n    <tr>\n      <th>second</th>\n      <th></th>\n      <th></th>\n      <th></th>\n    </tr>\n  </thead>\n  <tbody>\n    <tr>\n      <th rowspan=\"2\" valign=\"top\">one</th>\n      <th>A</th>\n      <td>-1.425195</td>\n      <td>1.584450</td>\n    </tr>\n    <tr>\n      <th>B</th>\n      <td>-0.859343</td>\n      <td>1.268736</td>\n    </tr>\n    <tr>\n      <th rowspan=\"2\" valign=\"top\">two</th>\n      <th>A</th>\n      <td>0.409136</td>\n      <td>1.219449</td>\n    </tr>\n    <tr>\n      <th>B</th>\n      <td>0.338427</td>\n      <td>1.295447</td>\n    </tr>\n  </tbody>\n</table>\n</div>"
     },
     "metadata": {},
     "execution_count": 125
    }
   ],
   "source": [
    "stacked.unstack(0)"
   ]
  },
  {
   "cell_type": "code",
   "execution_count": 130,
   "metadata": {},
   "outputs": [
    {
     "output_type": "execute_result",
     "data": {
      "text/plain": [
       "2021-01-01    24719\n",
       "Freq: 5T, dtype: int64"
      ]
     },
     "metadata": {},
     "execution_count": 130
    }
   ],
   "source": [
    "# Time Series (시계열)\n",
    "# https://predictors.tistory.com/28\n",
    "\n",
    "rng = pd.date_range('1/1/2021', periods=100, freq='S')\n",
    "ts = pd.Series(np.random.randint(0, 500, len(rng)), index=rng)\n",
    "ts.resample('5Min').sum()"
   ]
  },
  {
   "cell_type": "code",
   "execution_count": 131,
   "metadata": {},
   "outputs": [
    {
     "output_type": "execute_result",
     "data": {
      "text/plain": [
       "2021-04-04   -0.347807\n",
       "2021-04-05   -0.765978\n",
       "2021-04-06    0.581024\n",
       "2021-04-07    0.982986\n",
       "2021-04-08    1.673466\n",
       "Freq: D, dtype: float64"
      ]
     },
     "metadata": {},
     "execution_count": 131
    }
   ],
   "source": [
    "rng = pd.date_range('4/4/2021 00:00', periods=5, freq='D')\n",
    "ts = pd.Series(np.random.randn(len(rng)), rng)\n",
    "ts"
   ]
  },
  {
   "cell_type": "code",
   "execution_count": 132,
   "metadata": {},
   "outputs": [
    {
     "output_type": "execute_result",
     "data": {
      "text/plain": [
       "2021-04-04 00:00:00+00:00   -0.347807\n",
       "2021-04-05 00:00:00+00:00   -0.765978\n",
       "2021-04-06 00:00:00+00:00    0.581024\n",
       "2021-04-07 00:00:00+00:00    0.982986\n",
       "2021-04-08 00:00:00+00:00    1.673466\n",
       "Freq: D, dtype: float64"
      ]
     },
     "metadata": {},
     "execution_count": 132
    }
   ],
   "source": [
    "ts_utc = ts.tz_localize('UTC')\n",
    "ts_utc"
   ]
  },
  {
   "cell_type": "code",
   "execution_count": 140,
   "metadata": {},
   "outputs": [
    {
     "output_type": "execute_result",
     "data": {
      "text/plain": [
       "2012-01-31   -0.259078\n",
       "2012-02-29    0.238526\n",
       "2012-03-31   -0.404884\n",
       "2012-04-30   -0.664089\n",
       "2012-05-31   -1.784916\n",
       "Freq: M, dtype: float64"
      ]
     },
     "metadata": {},
     "execution_count": 140
    }
   ],
   "source": [
    "# 기간 ↔ 시간 변환\n",
    "\n",
    "rng = pd.date_range('1/1/2012', periods=5, freq='M')\n",
    "ts = pd.Series(np.random.randn(len(rng)), index=rng)\n",
    "ts"
   ]
  },
  {
   "cell_type": "code",
   "execution_count": 141,
   "metadata": {},
   "outputs": [
    {
     "output_type": "execute_result",
     "data": {
      "text/plain": [
       "2012-01   -0.259078\n",
       "2012-02    0.238526\n",
       "2012-03   -0.404884\n",
       "2012-04   -0.664089\n",
       "2012-05   -1.784916\n",
       "Freq: M, dtype: float64"
      ]
     },
     "metadata": {},
     "execution_count": 141
    }
   ],
   "source": [
    "# 일 제거\n",
    "\n",
    "ps = ts.to_period()\n",
    "ps"
   ]
  },
  {
   "cell_type": "code",
   "execution_count": 142,
   "metadata": {},
   "outputs": [
    {
     "output_type": "execute_result",
     "data": {
      "text/plain": [
       "2012-01   -0.259078\n",
       "2012-02    0.238526\n",
       "2012-03   -0.404884\n",
       "2012-04   -0.664089\n",
       "2012-05   -1.784916\n",
       "Freq: M, dtype: float64"
      ]
     },
     "metadata": {},
     "execution_count": 142
    }
   ],
   "source": [
    "# 복호화\n",
    "\n",
    "ps.to_timestamp()\n",
    "ps"
   ]
  },
  {
   "cell_type": "code",
   "execution_count": 143,
   "metadata": {},
   "outputs": [
    {
     "output_type": "execute_result",
     "data": {
      "text/plain": [
       "2020-03-01 09:00    1.070404\n",
       "2020-06-01 09:00   -2.065572\n",
       "2020-09-01 09:00   -0.576365\n",
       "2020-12-01 09:00   -0.352169\n",
       "2021-03-01 09:00   -0.883337\n",
       "Freq: H, dtype: float64"
      ]
     },
     "metadata": {},
     "execution_count": 143
    }
   ],
   "source": [
    "# 달마다 오전9시로 표시\n",
    "\n",
    "prng = pd.period_range('2020Q1', '2021Q4', freq='Q-NOV') # 1분기 ~ 4분기\n",
    "ts = pd.Series(np.random.randn(len(prng)), prng)\n",
    "ts.index = (prng.asfreq('M', 'e') + 1).asfreq('H', 's') + 9\n",
    "ts.head()"
   ]
  },
  {
   "cell_type": "code",
   "execution_count": 9,
   "metadata": {},
   "outputs": [
    {
     "output_type": "execute_result",
     "data": {
      "text/plain": [
       "0    a\n",
       "1    b\n",
       "2    b\n",
       "3    a\n",
       "4    a\n",
       "5    e\n",
       "Name: grade, dtype: category\n",
       "Categories (3, object): [a, b, e]"
      ]
     },
     "metadata": {},
     "execution_count": 9
    }
   ],
   "source": [
    "# Categoricals (범주화)\n",
    "# pd.to_numeric() : 함수를 이용한 문자열 칼럼의 숫자형 변환\n",
    "# astype() : 메소드를 이용한 문자열 칼럼의 숫자형 변환\n",
    "\n",
    "df5 = pd.DataFrame({\"id\":[1,2,3,4,5,6], \"raw_grade\":['a', 'b', 'b', 'a', 'a', 'e']})\n",
    "df5[\"grade\"] = df5[\"raw_grade\"].astype(\"category\")\n",
    "df5[\"grade\"]"
   ]
  },
  {
   "cell_type": "code",
   "execution_count": 10,
   "metadata": {},
   "outputs": [
    {
     "output_type": "execute_result",
     "data": {
      "text/plain": [
       "   id raw_grade      grade\n",
       "0   1         a  very good\n",
       "1   2         b       good\n",
       "2   3         b       good\n",
       "3   4         a  very good\n",
       "4   5         a  very good\n",
       "5   6         e   very bad"
      ],
      "text/html": "<div>\n<style scoped>\n    .dataframe tbody tr th:only-of-type {\n        vertical-align: middle;\n    }\n\n    .dataframe tbody tr th {\n        vertical-align: top;\n    }\n\n    .dataframe thead th {\n        text-align: right;\n    }\n</style>\n<table border=\"1\" class=\"dataframe\">\n  <thead>\n    <tr style=\"text-align: right;\">\n      <th></th>\n      <th>id</th>\n      <th>raw_grade</th>\n      <th>grade</th>\n    </tr>\n  </thead>\n  <tbody>\n    <tr>\n      <th>0</th>\n      <td>1</td>\n      <td>a</td>\n      <td>very good</td>\n    </tr>\n    <tr>\n      <th>1</th>\n      <td>2</td>\n      <td>b</td>\n      <td>good</td>\n    </tr>\n    <tr>\n      <th>2</th>\n      <td>3</td>\n      <td>b</td>\n      <td>good</td>\n    </tr>\n    <tr>\n      <th>3</th>\n      <td>4</td>\n      <td>a</td>\n      <td>very good</td>\n    </tr>\n    <tr>\n      <th>4</th>\n      <td>5</td>\n      <td>a</td>\n      <td>very good</td>\n    </tr>\n    <tr>\n      <th>5</th>\n      <td>6</td>\n      <td>e</td>\n      <td>very bad</td>\n    </tr>\n  </tbody>\n</table>\n</div>"
     },
     "metadata": {},
     "execution_count": 10
    }
   ],
   "source": [
    "df5[\"grade\"].cat.categories = [\"very good\", \"good\", \"very bad\"]\n",
    "df5"
   ]
  },
  {
   "cell_type": "code",
   "execution_count": 11,
   "metadata": {},
   "outputs": [
    {
     "output_type": "execute_result",
     "data": {
      "text/plain": [
       "   id raw_grade      grade\n",
       "0   1         a  very good\n",
       "1   2         b       good\n",
       "2   3         b       good\n",
       "3   4         a  very good\n",
       "4   5         a  very good\n",
       "5   6         e   very bad"
      ],
      "text/html": "<div>\n<style scoped>\n    .dataframe tbody tr th:only-of-type {\n        vertical-align: middle;\n    }\n\n    .dataframe tbody tr th {\n        vertical-align: top;\n    }\n\n    .dataframe thead th {\n        text-align: right;\n    }\n</style>\n<table border=\"1\" class=\"dataframe\">\n  <thead>\n    <tr style=\"text-align: right;\">\n      <th></th>\n      <th>id</th>\n      <th>raw_grade</th>\n      <th>grade</th>\n    </tr>\n  </thead>\n  <tbody>\n    <tr>\n      <th>0</th>\n      <td>1</td>\n      <td>a</td>\n      <td>very good</td>\n    </tr>\n    <tr>\n      <th>1</th>\n      <td>2</td>\n      <td>b</td>\n      <td>good</td>\n    </tr>\n    <tr>\n      <th>2</th>\n      <td>3</td>\n      <td>b</td>\n      <td>good</td>\n    </tr>\n    <tr>\n      <th>3</th>\n      <td>4</td>\n      <td>a</td>\n      <td>very good</td>\n    </tr>\n    <tr>\n      <th>4</th>\n      <td>5</td>\n      <td>a</td>\n      <td>very good</td>\n    </tr>\n    <tr>\n      <th>5</th>\n      <td>6</td>\n      <td>e</td>\n      <td>very bad</td>\n    </tr>\n  </tbody>\n</table>\n</div>"
     },
     "metadata": {},
     "execution_count": 11
    }
   ],
   "source": [
    "df5[\"grade\"] = df5[\"grade\"].cat.set_categories([\"very bad\", \"bad\", \"medium\", \"good\", \"very good\"])\n",
    "df5"
   ]
  },
  {
   "cell_type": "code",
   "execution_count": 12,
   "metadata": {},
   "outputs": [
    {
     "output_type": "execute_result",
     "data": {
      "text/plain": [
       "   id raw_grade      grade\n",
       "5   6         e   very bad\n",
       "1   2         b       good\n",
       "2   3         b       good\n",
       "0   1         a  very good\n",
       "3   4         a  very good\n",
       "4   5         a  very good"
      ],
      "text/html": "<div>\n<style scoped>\n    .dataframe tbody tr th:only-of-type {\n        vertical-align: middle;\n    }\n\n    .dataframe tbody tr th {\n        vertical-align: top;\n    }\n\n    .dataframe thead th {\n        text-align: right;\n    }\n</style>\n<table border=\"1\" class=\"dataframe\">\n  <thead>\n    <tr style=\"text-align: right;\">\n      <th></th>\n      <th>id</th>\n      <th>raw_grade</th>\n      <th>grade</th>\n    </tr>\n  </thead>\n  <tbody>\n    <tr>\n      <th>5</th>\n      <td>6</td>\n      <td>e</td>\n      <td>very bad</td>\n    </tr>\n    <tr>\n      <th>1</th>\n      <td>2</td>\n      <td>b</td>\n      <td>good</td>\n    </tr>\n    <tr>\n      <th>2</th>\n      <td>3</td>\n      <td>b</td>\n      <td>good</td>\n    </tr>\n    <tr>\n      <th>0</th>\n      <td>1</td>\n      <td>a</td>\n      <td>very good</td>\n    </tr>\n    <tr>\n      <th>3</th>\n      <td>4</td>\n      <td>a</td>\n      <td>very good</td>\n    </tr>\n    <tr>\n      <th>4</th>\n      <td>5</td>\n      <td>a</td>\n      <td>very good</td>\n    </tr>\n  </tbody>\n</table>\n</div>"
     },
     "metadata": {},
     "execution_count": 12
    }
   ],
   "source": [
    "df5.sort_values(by=\"grade\")"
   ]
  },
  {
   "cell_type": "code",
   "execution_count": 13,
   "metadata": {},
   "outputs": [
    {
     "output_type": "execute_result",
     "data": {
      "text/plain": [
       "grade\n",
       "very bad     1\n",
       "bad          0\n",
       "medium       0\n",
       "good         2\n",
       "very good    3\n",
       "dtype: int64"
      ]
     },
     "metadata": {},
     "execution_count": 13
    }
   ],
   "source": [
    "df5.groupby(\"grade\").size()"
   ]
  },
  {
   "cell_type": "code",
   "execution_count": 14,
   "metadata": {},
   "outputs": [],
   "source": [
    "# Plotting (그래프)\n",
    "\n",
    "ts = pd.Series(np.random.randn(1000), index=pd.date_range('1/1/2000', periods=1000))\n",
    "ts = ts.cumsum()\n",
    "ts.plot()"
   ]
  },
  {
   "cell_type": "code",
   "execution_count": 8,
   "metadata": {},
   "outputs": [
    {
     "output_type": "error",
     "ename": "NameError",
     "evalue": "name 'ts' is not defined",
     "traceback": [
      "\u001b[0;31m---------------------------------------------------------------------------\u001b[0m",
      "\u001b[0;31mNameError\u001b[0m                                 Traceback (most recent call last)",
      "\u001b[0;32m<ipython-input-8-e71dcc788e56>\u001b[0m in \u001b[0;36m<module>\u001b[0;34m\u001b[0m\n\u001b[0;32m----> 1\u001b[0;31m df5 = pd.DataFrame(np.random.randn(1000, 4), index=ts.index,\n\u001b[0m\u001b[1;32m      2\u001b[0m                   columns=['A', 'B', 'C', 'D'])  \n\u001b[1;32m      3\u001b[0m \u001b[0mdf5\u001b[0m \u001b[0;34m=\u001b[0m \u001b[0mdf5\u001b[0m\u001b[0;34m.\u001b[0m\u001b[0mcumsum\u001b[0m\u001b[0;34m(\u001b[0m\u001b[0;34m)\u001b[0m\u001b[0;34m\u001b[0m\u001b[0;34m\u001b[0m\u001b[0m\n\u001b[1;32m      4\u001b[0m \u001b[0mplt\u001b[0m\u001b[0;34m.\u001b[0m\u001b[0mfigure\u001b[0m\u001b[0;34m(\u001b[0m\u001b[0;34m)\u001b[0m\u001b[0;34m;\u001b[0m \u001b[0mdf\u001b[0m\u001b[0;34m.\u001b[0m\u001b[0mplot\u001b[0m\u001b[0;34m(\u001b[0m\u001b[0;34m)\u001b[0m\u001b[0;34m;\u001b[0m \u001b[0mplt\u001b[0m\u001b[0;34m.\u001b[0m\u001b[0mlegend\u001b[0m\u001b[0;34m(\u001b[0m\u001b[0mloc\u001b[0m\u001b[0;34m=\u001b[0m\u001b[0;34m'best'\u001b[0m\u001b[0;34m)\u001b[0m\u001b[0;34m\u001b[0m\u001b[0;34m\u001b[0m\u001b[0m\n",
      "\u001b[0;31mNameError\u001b[0m: name 'ts' is not defined"
     ]
    }
   ],
   "source": [
    "df5 = pd.DataFrame(np.random.randn(1000, 4), index=ts.index,\n",
    "                  columns=['A', 'B', 'C', 'D'])  \n",
    "df5 = df5.cumsum()\n",
    "plt.figure(); df.plot(); plt.legend(loc='best')"
   ]
  },
  {
   "cell_type": "code",
   "execution_count": 5,
   "metadata": {},
   "outputs": [],
   "source": [
    "df.plot()\n",
    "# Error: Direct kernel connection broken"
   ]
  },
  {
   "cell_type": "code",
   "execution_count": null,
   "metadata": {},
   "outputs": [],
   "source": [
    "df.plot.bar()\n",
    "# Error: Direct kernel connection broken"
   ]
  },
  {
   "cell_type": "code",
   "execution_count": null,
   "metadata": {},
   "outputs": [],
   "source": [
    "df.plot.density()\n",
    "# Error: Direct kernel connection broken"
   ]
  },
  {
   "cell_type": "code",
   "execution_count": null,
   "metadata": {},
   "outputs": [],
   "source": []
  },
  {
   "cell_type": "code",
   "execution_count": null,
   "metadata": {},
   "outputs": [],
   "source": []
  }
 ]
}